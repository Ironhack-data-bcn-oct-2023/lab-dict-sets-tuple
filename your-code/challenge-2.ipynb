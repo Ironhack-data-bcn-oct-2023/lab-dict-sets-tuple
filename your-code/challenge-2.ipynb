{
 "cells": [
  {
   "cell_type": "markdown",
   "metadata": {},
   "source": [
    "## Challenge 2: Sets\n",
    "\n",
    "There are a lot to learn about Python Sets and the information presented in the lesson is limited due to its length. To learn Python Sets in depth you are strongly encouraged to review the W3Schools tutorial on [Python Sets Examples and Methods](https://www.w3schools.com/python/python_sets.asp) before you work on this lab. Some difficult questions in this lab have their solutions in the W3Schools tutorial.\n",
    "\n",
    "#### First, import the Python `random` library."
   ]
  },
  {
   "cell_type": "code",
   "execution_count": 2,
   "metadata": {},
   "outputs": [],
   "source": [
    "import random"
   ]
  },
  {
   "cell_type": "markdown",
   "metadata": {},
   "source": [
    "⚠️ Did you get: module not found? Try, in a cell: <br>\n",
    "`!pip install random`<br>\n",
    "`import random`"
   ]
  },
  {
   "cell_type": "markdown",
   "metadata": {},
   "source": [
    "#### In the cell below, create a list named `sample_list_1` with 80 random values. \n",
    "\n",
    "Requirements:\n",
    "\n",
    "* Each value is an integer falling between 0 and 100.\n",
    "* Each value in the list is unique.\n",
    "\n",
    "Print `sample_list_1` to review its values\n",
    "\n",
    "*Hint: use `random.sample` ([reference](https://docs.python.org/3/library/random.html#random.sample)).*"
   ]
  },
  {
   "cell_type": "code",
   "execution_count": 29,
   "metadata": {},
   "outputs": [
    {
     "name": "stdout",
     "output_type": "stream",
     "text": [
      "[61, 41, 5, 67, 90, 62, 89, 0, 10, 39, 49, 91, 63, 55, 27, 53, 88, 46, 64, 21, 17, 40, 96, 68, 52, 97, 72, 38, 20, 81, 65, 44, 58, 15, 59, 8, 57, 33, 28, 83, 22, 43, 2, 87, 19, 95, 76, 75, 78, 13, 3, 50, 42, 56, 9, 77, 71, 70, 92, 69, 24, 47, 7, 86, 37, 34, 30, 51, 94, 99, 16, 1, 45, 4, 98, 18, 11, 73, 60, 93]\n"
     ]
    }
   ],
   "source": [
    "# In the cell below, create a list named sample_list_1 with 80 random values.\n",
    "# Requirements:\n",
    "# Each value is an integer falling between 0 and 100.\n",
    "# Each value in the list must be unique\n",
    "\n",
    "import random\n",
    "sample_list_1 = random.sample(range(100), k=80)\n",
    "print(sample_list_1)\n",
    "\n",
    "# CORRECCIONES: Has usado random.uniform(a, b) por lo que te genera una lista de valores aloatorios con floats. En el enunciado especifica que deben ser integers por lo deberías usar random.sample(a, b) .Al haber puesto floats, los siguientes ejercicios del lab relacionados están bien planteado a nivel de código pero los resultados no son correctos. 🫠"
   ]
  },
  {
   "cell_type": "markdown",
   "metadata": {},
   "source": [
    "#### Convert `sample_list_1` to a set called `set1`. Print the length of the set. Is its length still 80?"
   ]
  },
  {
   "cell_type": "code",
   "execution_count": 11,
   "metadata": {},
   "outputs": [
    {
     "name": "stdout",
     "output_type": "stream",
     "text": [
      "Length of set1: 80\n"
     ]
    }
   ],
   "source": [
    "set1 = set(sample_list_1)\n",
    "\n",
    "print(\"Length of set1:\", len(set1))\n",
    "\n",
    "# Yes, it is 80"
   ]
  },
  {
   "cell_type": "markdown",
   "metadata": {},
   "source": [
    "#### Create another list named `sample_list_2` with 80 random values.\n",
    "\n",
    "Requirements:\n",
    "\n",
    "* Each value is an integer falling between 0 and 100.\n",
    "* The values in the list don't have to be unique.\n",
    "\n",
    "*Hint: Use a FOR loop.*"
   ]
  },
  {
   "cell_type": "code",
   "execution_count": 12,
   "metadata": {},
   "outputs": [
    {
     "name": "stdout",
     "output_type": "stream",
     "text": [
      "[38, 32, 16, 55, 14, 69, 17, 94, 35, 81, 33, 15, 9, 86, 44, 38, 23, 1, 5, 84, 35, 96, 11, 44, 10, 55, 90, 59, 13, 12, 85, 84, 71, 23, 43, 68, 9, 20, 0, 23, 15, 85, 60, 28, 31, 99, 21, 8, 3, 65, 12, 8, 45, 72, 58, 95, 71, 70, 68, 45, 16, 66, 91, 28, 40, 74, 33, 45, 72, 31, 42, 86, 15, 79, 39, 10, 7, 49, 59, 57]\n"
     ]
    }
   ],
   "source": [
    "import random\n",
    "\n",
    "# Create another list named sample_list_2 with 80 random values.\n",
    "# Requirements:\n",
    "\n",
    "#Each value is an integer falling between 0 and 100.\n",
    "min_value = 0\n",
    "max_value = 100\n",
    "\n",
    "sample_list_2 = []\n",
    "\n",
    "for _ in range(80):\n",
    "    random_integer = random.randint(min_value, max_value)\n",
    "    sample_list_2.append(random_integer)\n",
    "\n",
    "print(sample_list_2)"
   ]
  },
  {
   "cell_type": "markdown",
   "metadata": {},
   "source": [
    "#### Convert `sample_list_2` to a set called `set2`. Print the length of the set. Is its length still 80?"
   ]
  },
  {
   "cell_type": "code",
   "execution_count": 14,
   "metadata": {},
   "outputs": [
    {
     "name": "stdout",
     "output_type": "stream",
     "text": [
      "Length of set2: 55\n"
     ]
    }
   ],
   "source": [
    "set2 = set(sample_list_2)\n",
    "\n",
    "print(\"Length of set2:\", len(set2))\n",
    "\n",
    "# No, it is 55"
   ]
  },
  {
   "cell_type": "markdown",
   "metadata": {},
   "source": [
    "#### Identify the elements present in `set1` but not in `set2`. Assign the elements to a new set named `set3`."
   ]
  },
  {
   "cell_type": "code",
   "execution_count": 15,
   "metadata": {},
   "outputs": [
    {
     "name": "stdout",
     "output_type": "stream",
     "text": [
      "Elements in set1 named set3: {2, 4, 6, 18, 19, 22, 24, 25, 29, 30, 34, 36, 37, 41, 46, 47, 48, 51, 52, 53, 54, 56, 61, 62, 64, 67, 76, 78, 80, 82, 87, 88, 89, 92, 97}\n"
     ]
    }
   ],
   "source": [
    "set3 = set1 - set2\n",
    "\n",
    "print(\"Elements in set1 named set3:\", set3)"
   ]
  },
  {
   "cell_type": "markdown",
   "metadata": {},
   "source": [
    "#### Identify the elements present in `set2` but not in `set1`. Assign the elements to a new set named `set4`."
   ]
  },
  {
   "cell_type": "code",
   "execution_count": 16,
   "metadata": {},
   "outputs": [
    {
     "name": "stdout",
     "output_type": "stream",
     "text": [
      "Elements in set2 named set4: {72, 9, 74, 11, 91, 45, 21, 55, 57, 59}\n"
     ]
    }
   ],
   "source": [
    "set4 = set2 - set1\n",
    "\n",
    "print(\"Elements in set2 named set4:\", set4)"
   ]
  },
  {
   "cell_type": "markdown",
   "metadata": {},
   "source": [
    "#### Now Identify the elements shared between `set1` and `set2`. Assign the elements to a new set named `set5`."
   ]
  },
  {
   "cell_type": "code",
   "execution_count": 17,
   "metadata": {},
   "outputs": [
    {
     "name": "stdout",
     "output_type": "stream",
     "text": [
      "{7, 8, 12, 15, 18, 20, 21, 22, 23, 24, 28, 32, 34, 36, 37, 41, 44, 53, 62, 63, 68, 71, 72, 77, 78, 81, 86, 89, 92, 95, 96}\n"
     ]
    }
   ],
   "source": [
    "set1 = {0.8383571856863892, 0.47253432057959843, 6.716642885024305, 7.582864682545932, 8.808652851836541, 12.126654837790873, 12.481777397392024, 15.916644426710391, 16.68730704672545, 16.244707935313485, 18.862465302377117, 15.994156058594955, 20.835210788722247, 21.499452455863256, 22.991164290777267, 23.342008223947673, 24.53640775487438, 25.03375630262684, 26.586171790889722, 23.34862027079415, 28.23592604298304, 20.37348171231169, 30.618026818214616, 32.03629919498058, 32.63299289743994, 34.14921518490173, 34.18736279300535, 34.7346410726613, 37.2679714475359, 36.814622495619496, 39.38819320499882, 40.24477755723228, 41.23862412361197, 44.37676065758303, 44.22195361329242, 46.74727106342924, 47.04517794525027, 46.358608299737845, 47.06595040761169, 50.7603135853296, 51.17888640339291, 51.71508293499969, 53.187861654687715, 53.074131156745366, 54.984203571312406, 58.02653926183093, 58.95386924514021, 59.44605325786934, 62.56598245210338, 63.38258498534428, 63.990061460083304, 66.55885224253376, 68.46171052251607, 70.9981307104103, 71.36419500412565, 72.53111309030287, 73.28361121480732, 73.4439474392637, 73.47231256181708, 75.74163881528293, 77.23938435227859, 78.94881937576783, 79.61880449686633, 77.98253520171474, 81.80945487818069, 82.53715729561554, 81.93688380190332, 76.73635231415123, 85.50752756824687, 86.15252155802084, 87.29671767823893, 89.33398730501085, 89.68160475447522, 92.09370678987545, 93.69885799443958, 92.3353267216173, 95.7909198995813, 96.27038803031687, 97.18007088115624, 46.62028529972052, 73.90455783123426}\n",
    "set2 = {2, 4, 7, 8, 9, 10, 12, 13, 14, 15, 17, 18, 19, 20, 21, 22, 23, 24, 27, 28, 29, 31, 32, 33, 34, 36, 37, 38, 41, 42, 43, 44, 45, 49, 53, 55, 56, 57, 62, 63, 64, 65, 67, 68, 69, 71, 72, 77, 78, 80, 81, 83, 86, 89, 92, 94, 95, 96}\n",
    "\n",
    "set5 = {int(element) for element in set1} & set2\n",
    "\n",
    "print(set5)"
   ]
  },
  {
   "cell_type": "markdown",
   "metadata": {},
   "source": [
    "#### What is the relationship among the following values:\n",
    "\n",
    "* len(set1)\n",
    "* len(set2)\n",
    "* len(set3)\n",
    "* len(set4)\n",
    "* len(set5)\n",
    "\n",
    "Use a math formula to represent that relationship. Test your formula with Python code. Eg.: \n",
    "\n",
    "- my age is 30\n",
    "- my son is 10\n",
    "- my dad's twice my age\n",
    "- my grandmother is three times my age minus my son's_age\n",
    "\n",
    "\n",
    "A formula relating all these values would be:\n",
    "\n",
    "`my_grandmother = my_age + my_dad's_age - my_sons_age`\n",
    "\n",
    "Does this evaluate to True or to False?"
   ]
  },
  {
   "cell_type": "code",
   "execution_count": 18,
   "metadata": {},
   "outputs": [
    {
     "name": "stdout",
     "output_type": "stream",
     "text": [
      "Length of set1: 81\n",
      "Length of set2: 58\n",
      "Length of set3: 42\n",
      "Length of set4: 10\n",
      "Length of set5: -12\n"
     ]
    }
   ],
   "source": [
    "# What is the relationship among the following values: len(set1) len(set2) len(set3) len(set4) len(set5)\n",
    "# I think that the length of set1 is equal to the sum of the lengths set3, set4, and set5, minus the length of set2\n",
    "\n",
    "len_set1 = len(set1)\n",
    "len_set2 = len(set2)\n",
    "len_set3 = len(set1) - len(set4 | set5)\n",
    "len_set4 = len(set4)\n",
    "len_set5 = len(set1) - len(set2) - len(set3)\n",
    "\n",
    "print(\"Length of set1:\", len_set1)\n",
    "print(\"Length of set2:\", len_set2)\n",
    "print(\"Length of set3:\", len_set3)\n",
    "print(\"Length of set4:\", len_set4)\n",
    "print(\"Length of set5:\", len_set5)\n"
   ]
  },
  {
   "cell_type": "markdown",
   "metadata": {},
   "source": [
    "#### Create an empty set called `set6`."
   ]
  },
  {
   "cell_type": "code",
   "execution_count": 19,
   "metadata": {},
   "outputs": [],
   "source": [
    "set6 = set()"
   ]
  },
  {
   "cell_type": "markdown",
   "metadata": {},
   "source": [
    "#### Add `set3` and `set5` to `set6` using the Python Set `update` method."
   ]
  },
  {
   "cell_type": "code",
   "execution_count": 20,
   "metadata": {},
   "outputs": [
    {
     "name": "stdout",
     "output_type": "stream",
     "text": [
      "{2, 4, 6, 7, 8, 12, 15, 18, 19, 20, 21, 22, 23, 24, 25, 28, 29, 30, 32, 34, 36, 37, 41, 44, 46, 47, 48, 51, 52, 53, 54, 56, 61, 62, 63, 64, 67, 68, 71, 72, 76, 77, 78, 80, 81, 82, 86, 87, 88, 89, 92, 95, 96, 97}\n"
     ]
    }
   ],
   "source": [
    "set6.update(set3)\n",
    "set6.update(set5)\n",
    "\n",
    "print(set6)"
   ]
  },
  {
   "cell_type": "markdown",
   "metadata": {},
   "source": [
    "#### Check if `set1` and `set6` are equal."
   ]
  },
  {
   "cell_type": "code",
   "execution_count": 21,
   "metadata": {},
   "outputs": [
    {
     "name": "stdout",
     "output_type": "stream",
     "text": [
      "set1 and set6 are not equal\n"
     ]
    }
   ],
   "source": [
    "if set1 == set6:\n",
    "    print(\"set1 and set6 are equal\")\n",
    "else:\n",
    "    print(\"set1 and set6 are not equal\")"
   ]
  },
  {
   "cell_type": "markdown",
   "metadata": {},
   "source": [
    "#### Check if `set1` contains `set2` using the Python Set `issubset` method. Then check if `set1` contains `set3`.*"
   ]
  },
  {
   "cell_type": "code",
   "execution_count": 22,
   "metadata": {},
   "outputs": [
    {
     "name": "stdout",
     "output_type": "stream",
     "text": [
      "set1 does not contain set2\n",
      "set3 does not contain set1\n"
     ]
    }
   ],
   "source": [
    "#Checking set1/set2\n",
    "if set2.issubset(set1):\n",
    "    print(\"set 1 contains set2\")\n",
    "else:\n",
    "    print(\"set1 does not contain set2\")\n",
    "\n",
    "#Checking set1/set3\n",
    "\n",
    "if set3.issubset(set1):\n",
    "    print(\"set1 contains set3\")\n",
    "else:\n",
    "    print(\"set3 does not contain set1\")"
   ]
  },
  {
   "cell_type": "markdown",
   "metadata": {},
   "source": [
    "#### Using the Python Set `union` method, aggregate `set3`, `set4`, and `set5`. Then aggregate `set1` and `set2`. \n",
    "\n",
    "#### Check if the aggregated values are equal."
   ]
  },
  {
   "cell_type": "code",
   "execution_count": 23,
   "metadata": {},
   "outputs": [
    {
     "name": "stdout",
     "output_type": "stream",
     "text": [
      "Sets are not equal\n"
     ]
    }
   ],
   "source": [
    "# Aggregate set3, set4, and set5\n",
    "aggregated_set1 = set3.union(set4, set5)\n",
    "\n",
    "# Aggregate set1 and set2\n",
    "aggregated_set2 = set1.union(set2)\n",
    "\n",
    "#Are equal?\n",
    "if aggregated_set1 == aggregated_set2:\n",
    "    print(\"Sets are equal\")\n",
    "else:\n",
    "    print(\"Sets are not equal\")"
   ]
  },
  {
   "cell_type": "markdown",
   "metadata": {},
   "source": [
    "#### Using the `pop` method, remove the first element from `set1`."
   ]
  },
  {
   "cell_type": "code",
   "execution_count": 28,
   "metadata": {},
   "outputs": [
    {
     "name": "stdout",
     "output_type": "stream",
     "text": [
      "{7.582864682545932, 8.808652851836541, 12.126654837790873, 12.481777397392024, 15.916644426710391, 16.68730704672545, 16.244707935313485, 18.862465302377117, 15.994156058594955, 20.835210788722247, 21.499452455863256, 22.991164290777267, 23.342008223947673, 24.53640775487438, 25.03375630262684, 26.586171790889722, 23.34862027079415, 28.23592604298304, 20.37348171231169, 30.618026818214616, 32.03629919498058, 32.63299289743994, 34.14921518490173, 34.18736279300535, 34.7346410726613, 37.2679714475359, 36.814622495619496, 39.38819320499882, 40.24477755723228, 41.23862412361197, 44.37676065758303, 44.22195361329242, 46.74727106342924, 47.04517794525027, 46.358608299737845, 47.06595040761169, 50.7603135853296, 51.17888640339291, 51.71508293499969, 53.187861654687715, 53.074131156745366, 54.984203571312406, 58.02653926183093, 58.95386924514021, 59.44605325786934, 62.56598245210338, 63.38258498534428, 63.990061460083304, 66.55885224253376, 68.46171052251607, 70.9981307104103, 71.36419500412565, 72.53111309030287, 73.28361121480732, 73.4439474392637, 73.47231256181708, 75.74163881528293, 77.23938435227859, 78.94881937576783, 79.61880449686633, 77.98253520171474, 81.80945487818069, 82.53715729561554, 81.93688380190332, 76.73635231415123, 85.50752756824687, 86.15252155802084, 87.29671767823893, 89.33398730501085, 89.68160475447522, 92.09370678987545, 93.69885799443958, 92.3353267216173, 95.7909198995813, 96.27038803031687, 97.18007088115624, 46.62028529972052, 73.90455783123426}\n"
     ]
    }
   ],
   "source": [
    "#CORRECCIONES: The pop method removes an element randomly, thus we could convert it to list to pop the first element.\n",
    "\n",
    "set1_list = list(set1)\n",
    "set1_list.pop(0)\n",
    "set1_list_pop = set(set1_list)  # And we convert it back to a set\n",
    "print(set1_list_pop)"
   ]
  },
  {
   "cell_type": "markdown",
   "metadata": {},
   "source": [
    "#### Remove every element in the following list from `set1` if they are present in the set. Print the remaining elements.\n",
    "\n",
    "```\n",
    "list_to_remove = [1, 9, 11, 19, 21, 29, 31, 39, 41, 49, 51, 59, 61, 69, 71, 79, 81, 89, 91, 99]\n",
    "```"
   ]
  },
  {
   "cell_type": "code",
   "execution_count": 25,
   "metadata": {},
   "outputs": [
    {
     "name": "stdout",
     "output_type": "stream",
     "text": [
      "Remaining elements: {0.47253432057959843, 6.716642885024305, 7.582864682545932, 8.808652851836541, 12.126654837790873, 12.481777397392024, 15.916644426710391, 16.68730704672545, 16.244707935313485, 18.862465302377117, 15.994156058594955, 20.835210788722247, 21.499452455863256, 22.991164290777267, 23.342008223947673, 24.53640775487438, 25.03375630262684, 26.586171790889722, 23.34862027079415, 28.23592604298304, 20.37348171231169, 30.618026818214616, 32.03629919498058, 32.63299289743994, 34.14921518490173, 34.18736279300535, 34.7346410726613, 37.2679714475359, 36.814622495619496, 39.38819320499882, 40.24477755723228, 41.23862412361197, 44.37676065758303, 44.22195361329242, 46.74727106342924, 47.04517794525027, 46.358608299737845, 47.06595040761169, 50.7603135853296, 51.17888640339291, 51.71508293499969, 53.187861654687715, 53.074131156745366, 54.984203571312406, 58.02653926183093, 58.95386924514021, 59.44605325786934, 62.56598245210338, 63.38258498534428, 63.990061460083304, 66.55885224253376, 68.46171052251607, 70.9981307104103, 71.36419500412565, 72.53111309030287, 73.28361121480732, 73.4439474392637, 73.47231256181708, 75.74163881528293, 77.23938435227859, 78.94881937576783, 79.61880449686633, 77.98253520171474, 81.80945487818069, 82.53715729561554, 81.93688380190332, 76.73635231415123, 85.50752756824687, 86.15252155802084, 87.29671767823893, 89.33398730501085, 89.68160475447522, 92.09370678987545, 93.69885799443958, 92.3353267216173, 95.7909198995813, 96.27038803031687, 97.18007088115624, 73.90455783123426, 46.62028529972052}\n"
     ]
    }
   ],
   "source": [
    "list_to_remove = [1, 9, 11, 19, 21, 29, 31, 39, 41, 49, 51, 59, 61, 69, 71, 79, 81, 89, 91, 99]\n",
    "\n",
    "# Remove every element in the following list from set1 if they are present in the set\n",
    "for element in list_to_remove:\n",
    "    set1.discard(element)\n",
    "\n",
    "print(\"Remaining elements:\", set1)"
   ]
  }
 ],
 "metadata": {
  "kernelspec": {
   "display_name": "Python 3 (ipykernel)",
   "language": "python",
   "name": "python3"
  },
  "language_info": {
   "codemirror_mode": {
    "name": "ipython",
    "version": 3
   },
   "file_extension": ".py",
   "mimetype": "text/x-python",
   "name": "python",
   "nbconvert_exporter": "python",
   "pygments_lexer": "ipython3",
   "version": "3.10.9"
  },
  "nbTranslate": {
   "displayLangs": [
    "en",
    "es"
   ],
   "hotkey": "alt-a",
   "langInMainMenu": true,
   "sourceLang": "es",
   "targetLang": "en",
   "useGoogleTranslate": true
  },
  "toc": {
   "base_numbering": 1,
   "nav_menu": {},
   "number_sections": true,
   "sideBar": true,
   "skip_h1_title": false,
   "title_cell": "Table of Contents",
   "title_sidebar": "Contents",
   "toc_cell": false,
   "toc_position": {},
   "toc_section_display": true,
   "toc_window_display": false
  }
 },
 "nbformat": 4,
 "nbformat_minor": 2
}
