{
 "cells": [
  {
   "cell_type": "markdown",
   "metadata": {},
   "source": [
    "## Challenge 2: Sets\n",
    "\n",
    "There are a lot to learn about Python Sets and the information presented in the lesson is limited due to its length. To learn Python Sets in depth you are strongly encouraged to review the W3Schools tutorial on [Python Sets Examples and Methods](https://www.w3schools.com/python/python_sets.asp) before you work on this lab. Some difficult questions in this lab have their solutions in the W3Schools tutorial.\n",
    "\n",
    "#### First, import the Python `random` library."
   ]
  },
  {
   "cell_type": "code",
   "execution_count": 2,
   "metadata": {},
   "outputs": [],
   "source": [
    "import random"
   ]
  },
  {
   "cell_type": "markdown",
   "metadata": {},
   "source": [
    "⚠️ Did you get: module not found? Try, in a cell: <br>\n",
    "`!pip install random`<br>\n",
    "`import random`"
   ]
  },
  {
   "cell_type": "markdown",
   "metadata": {},
   "source": [
    "#### In the cell below, create a list named `sample_list_1` with 80 random values. \n",
    "\n",
    "Requirements:\n",
    "\n",
    "* Each value is an integer falling between 0 and 100.\n",
    "* Each value in the list is unique.\n",
    "\n",
    "Print `sample_list_1` to review its values\n",
    "\n",
    "*Hint: use `random.sample` ([reference](https://docs.python.org/3/library/random.html#random.sample)).*"
   ]
  },
  {
   "cell_type": "code",
   "execution_count": 129,
   "metadata": {},
   "outputs": [
    {
     "name": "stdout",
     "output_type": "stream",
     "text": [
      "[26, 32, 79, 73, 29, 80, 7, 52, 58, 27, 82, 38, 16, 63, 37, 45, 62, 84, 8, 47, 66, 92, 23, 65, 74, 28, 49, 75, 14, 17, 21, 67, 34, 94, 96, 3, 36, 25, 89, 18, 93, 2, 43, 88, 91, 61, 64, 87, 99, 22, 15, 57, 85, 70, 19, 81, 69, 0, 76, 35, 83, 31, 68, 9, 86, 30, 4, 98, 6, 95, 53, 71, 40, 59, 33, 77, 13, 90, 48, 46]\n"
     ]
    }
   ],
   "source": [
    "sample_list_1 = random.sample(range(100),k=80)\n",
    "print(sample_list_1)"
   ]
  },
  {
   "cell_type": "markdown",
   "metadata": {},
   "source": [
    "#### Convert `sample_list_1` to a set called `set1`. Print the length of the set. Is its length still 80?"
   ]
  },
  {
   "cell_type": "code",
   "execution_count": 130,
   "metadata": {},
   "outputs": [
    {
     "name": "stdout",
     "output_type": "stream",
     "text": [
      "<class 'set'>\n"
     ]
    },
    {
     "data": {
      "text/plain": [
       "80"
      ]
     },
     "execution_count": 130,
     "metadata": {},
     "output_type": "execute_result"
    }
   ],
   "source": [
    "set1=set(sample_list_1)\n",
    "print(type(set1))\n",
    "len(set1)"
   ]
  },
  {
   "cell_type": "markdown",
   "metadata": {},
   "source": [
    "#### Create another list named `sample_list_2` with 80 random values.\n",
    "\n",
    "Requirements:\n",
    "\n",
    "* Each value is an integer falling between 0 and 100.\n",
    "* The values in the list don't have to be unique.\n",
    "\n",
    "*Hint: Use a FOR loop.*"
   ]
  },
  {
   "cell_type": "code",
   "execution_count": 131,
   "metadata": {},
   "outputs": [
    {
     "name": "stdout",
     "output_type": "stream",
     "text": [
      "[34, 39, 62, 98, 34, 77, 40, 15, 70, 67, 40, 77, 23, 93, 24, 97, 63, 41, 23, 53, 21, 89, 51, 94, 2, 52, 95, 10, 33, 76, 13, 80, 64, 1, 49, 67, 82, 75, 86, 90, 0, 58, 14, 34, 84, 59, 94, 0, 49, 85, 94, 72, 66, 67, 74, 96, 45, 2, 80, 10, 16, 97, 26, 95, 53, 85, 96, 66, 66, 88, 81, 40, 31, 18, 79, 85, 47, 10, 14, 33]\n",
      "[80, 37, 80, 73, 48, 51, 2, 30, 52, 51, 13, 56, 7, 50, 50, 75, 80, 0, 42, 80, 5, 40, 76, 29, 45, 68, 65, 68, 12, 60, 64, 38, 36, 2, 7, 80, 17, 16, 66, 22, 51, 2, 23, 73, 67, 16, 15, 6, 37, 50, 37, 11, 14, 73, 60, 9, 45, 7, 45, 24, 22, 72, 65, 23, 67, 23, 66, 80, 21, 30, 29, 47, 61, 52, 69, 11, 44, 4, 51, 79]\n"
     ]
    }
   ],
   "source": [
    "#Method 1\n",
    "import numpy as np\n",
    "\n",
    "sample_list_2 = np.random.randint(0,100,size=80)\n",
    "sample_list_2 = sample_list_2.tolist()\n",
    "print(sample_list_2)\n",
    "\n",
    "type(sample_list_2)\n",
    "\n",
    "\n",
    "#Method 2\n",
    "\n",
    "sample_list_2 =[]\n",
    "\n",
    "for i in range(0,80):\n",
    "    n=random.randint(0,80)\n",
    "    sample_list_2.append(n)\n",
    "\n",
    "print(sample_list_2)\n"
   ]
  },
  {
   "cell_type": "markdown",
   "metadata": {},
   "source": [
    "#### Convert `sample_list_2` to a set called `set2`. Print the length of the set. Is its length still 80?"
   ]
  },
  {
   "cell_type": "code",
   "execution_count": 132,
   "metadata": {},
   "outputs": [
    {
     "name": "stdout",
     "output_type": "stream",
     "text": [
      "{0, 2, 4, 5, 6, 7, 9, 11, 12, 13, 14, 15, 16, 17, 21, 22, 23, 24, 29, 30, 36, 37, 38, 40, 42, 44, 45, 47, 48, 50, 51, 52, 56, 60, 61, 64, 65, 66, 67, 68, 69, 72, 73, 75, 76, 79, 80}\n",
      "47\n",
      "it's removed the duplicates\n"
     ]
    }
   ],
   "source": [
    "set2 = set(sample_list_2)\n",
    "print(set2)\n",
    "print(len(set2))\n",
    "if len(set2) == 80:\n",
    "    print(\"Still 80\")\n",
    "else:\n",
    "    print(\"it's removed the duplicates\")"
   ]
  },
  {
   "cell_type": "markdown",
   "metadata": {},
   "source": [
    "#### Identify the elements present in `set1` but not in `set2`. Assign the elements to a new set named `set3`."
   ]
  },
  {
   "cell_type": "code",
   "execution_count": 133,
   "metadata": {},
   "outputs": [
    {
     "name": "stdout",
     "output_type": "stream",
     "text": [
      "set1:\n",
      "{0, 2, 3, 4, 6, 7, 8, 9, 13, 14, 15, 16, 17, 18, 19, 21, 22, 23, 25, 26, 27, 28, 29, 30, 31, 32, 33, 34, 35, 36, 37, 38, 40, 43, 45, 46, 47, 48, 49, 52, 53, 57, 58, 59, 61, 62, 63, 64, 65, 66, 67, 68, 69, 70, 71, 73, 74, 75, 76, 77, 79, 80, 81, 82, 83, 84, 85, 86, 87, 88, 89, 90, 91, 92, 93, 94, 95, 96, 98, 99}\n",
      "set2:\n",
      "{0, 2, 4, 5, 6, 7, 9, 11, 12, 13, 14, 15, 16, 17, 21, 22, 23, 24, 29, 30, 36, 37, 38, 40, 42, 44, 45, 47, 48, 50, 51, 52, 56, 60, 61, 64, 65, 66, 67, 68, 69, 72, 73, 75, 76, 79, 80}\n",
      "\n",
      "\n",
      "difference = set1- set2:\n",
      "{3, 8, 18, 19, 25, 26, 27, 28, 31, 32, 33, 34, 35, 43, 46, 49, 53, 57, 58, 59, 62, 63, 70, 71, 74, 77, 81, 82, 83, 84, 85, 86, 87, 88, 89, 90, 91, 92, 93, 94, 95, 96, 98, 99}\n",
      "\n",
      "\n",
      "set1.difference(set2):\n",
      "{3, 8, 18, 19, 25, 26, 27, 28, 31, 32, 33, 34, 35, 43, 46, 49, 53, 57, 58, 59, 62, 63, 70, 71, 74, 77, 81, 82, 83, 84, 85, 86, 87, 88, 89, 90, 91, 92, 93, 94, 95, 96, 98, 99}\n",
      "\n",
      "\n",
      "set3\n",
      "{3, 8, 18, 19, 25, 26, 27, 28, 31, 32, 33, 34, 35, 43, 46, 49, 53, 57, 58, 59, 62, 63, 70, 71, 74, 77, 81, 82, 83, 84, 85, 86, 87, 88, 89, 90, 91, 92, 93, 94, 95, 96, 98, 99}\n",
      "44\n"
     ]
    }
   ],
   "source": [
    "print(\"set1:\")\n",
    "print(set1)\n",
    "print(\"set2:\")\n",
    "print(set2)\n",
    "print(\"\\n\")\n",
    "print(\"difference = set1- set2:\")\n",
    "print(set1 - set2)\n",
    "print(\"\\n\")\n",
    "print(\"set1.difference(set2):\")\n",
    "print(set1.difference(set2))\n",
    "print(\"\\n\")\n",
    "print(\"set3\")\n",
    "set3=set1.difference(set2)\n",
    "print(set3)\n",
    "print(len(set3))"
   ]
  },
  {
   "cell_type": "markdown",
   "metadata": {},
   "source": [
    "#### Identify the elements present in `set2` but not in `set1`. Assign the elements to a new set named `set4`."
   ]
  },
  {
   "cell_type": "code",
   "execution_count": 134,
   "metadata": {},
   "outputs": [
    {
     "name": "stdout",
     "output_type": "stream",
     "text": [
      "set1:\n",
      "{0, 2, 3, 4, 6, 7, 8, 9, 13, 14, 15, 16, 17, 18, 19, 21, 22, 23, 25, 26, 27, 28, 29, 30, 31, 32, 33, 34, 35, 36, 37, 38, 40, 43, 45, 46, 47, 48, 49, 52, 53, 57, 58, 59, 61, 62, 63, 64, 65, 66, 67, 68, 69, 70, 71, 73, 74, 75, 76, 77, 79, 80, 81, 82, 83, 84, 85, 86, 87, 88, 89, 90, 91, 92, 93, 94, 95, 96, 98, 99}\n",
      "set2:\n",
      "{0, 2, 4, 5, 6, 7, 9, 11, 12, 13, 14, 15, 16, 17, 21, 22, 23, 24, 29, 30, 36, 37, 38, 40, 42, 44, 45, 47, 48, 50, 51, 52, 56, 60, 61, 64, 65, 66, 67, 68, 69, 72, 73, 75, 76, 79, 80}\n",
      "\n",
      "\n",
      "difference = set2- set1:\n",
      "{5, 72, 42, 11, 12, 44, 50, 51, 24, 56, 60}\n",
      "\n",
      "\n",
      "set2.difference(set1):\n",
      "{5, 72, 42, 11, 12, 44, 50, 51, 24, 56, 60}\n",
      "\n",
      "\n",
      "set4\n",
      "{5, 72, 42, 11, 12, 44, 50, 51, 24, 56, 60}\n",
      "11\n"
     ]
    }
   ],
   "source": [
    "print(\"set1:\")\n",
    "print(set1)\n",
    "print(\"set2:\")\n",
    "print(set2)\n",
    "print(\"\\n\")\n",
    "print(\"difference = set2- set1:\")\n",
    "print(set2 - set1)\n",
    "print(\"\\n\")\n",
    "print(\"set2.difference(set1):\")\n",
    "print(set2.difference(set1))\n",
    "print(\"\\n\")\n",
    "print(\"set4\")\n",
    "set4=set2.difference(set1)\n",
    "print(set4)\n",
    "print(len(set4))"
   ]
  },
  {
   "cell_type": "markdown",
   "metadata": {},
   "source": [
    "#### Now Identify the elements shared between `set1` and `set2`. Assign the elements to a new set named `set5`."
   ]
  },
  {
   "cell_type": "code",
   "execution_count": 135,
   "metadata": {},
   "outputs": [
    {
     "name": "stdout",
     "output_type": "stream",
     "text": [
      "set1:\n",
      "{0, 2, 3, 4, 6, 7, 8, 9, 13, 14, 15, 16, 17, 18, 19, 21, 22, 23, 25, 26, 27, 28, 29, 30, 31, 32, 33, 34, 35, 36, 37, 38, 40, 43, 45, 46, 47, 48, 49, 52, 53, 57, 58, 59, 61, 62, 63, 64, 65, 66, 67, 68, 69, 70, 71, 73, 74, 75, 76, 77, 79, 80, 81, 82, 83, 84, 85, 86, 87, 88, 89, 90, 91, 92, 93, 94, 95, 96, 98, 99}\n",
      "set2:\n",
      "{0, 2, 4, 5, 6, 7, 9, 11, 12, 13, 14, 15, 16, 17, 21, 22, 23, 24, 29, 30, 36, 37, 38, 40, 42, 44, 45, 47, 48, 50, 51, 52, 56, 60, 61, 64, 65, 66, 67, 68, 69, 72, 73, 75, 76, 79, 80}\n",
      "\n",
      "\n",
      "set5 = set1.intersection(set2)\n",
      "{0, 2, 4, 6, 7, 9, 13, 14, 15, 16, 17, 21, 22, 23, 29, 30, 36, 37, 38, 40, 45, 47, 48, 52, 61, 64, 65, 66, 67, 68, 69, 73, 75, 76, 79, 80}\n"
     ]
    }
   ],
   "source": [
    "print(\"set1:\")\n",
    "print(set1)\n",
    "print(\"set2:\")\n",
    "print(set2)\n",
    "print(\"\\n\")\n",
    "print(\"set5 = set1.intersection(set2)\")\n",
    "set5 = set1.intersection(set2)\n",
    "print(set5)"
   ]
  },
  {
   "cell_type": "markdown",
   "metadata": {},
   "source": [
    "#### What is the relationship among the following values:\n",
    "\n",
    "* len(set1)\n",
    "* len(set2)\n",
    "* len(set3)\n",
    "* len(set4)\n",
    "* len(set5)\n",
    "\n",
    "Use a math formula to represent that relationship. Test your formula with Python code. Eg.: \n",
    "\n",
    "- my age is 30\n",
    "- my son is 10\n",
    "- my dad's twice my age\n",
    "- my grandmother is three times my age minus my son's_age\n",
    "\n",
    "\n",
    "A formula relating all these values would be:\n",
    "\n",
    "`my_grandmother = my_age + my_dad's_age - my_sons_age`\n",
    "\n",
    "Does this evaluate to True or to False?"
   ]
  },
  {
   "cell_type": "code",
   "execution_count": 136,
   "metadata": {},
   "outputs": [
    {
     "name": "stdout",
     "output_type": "stream",
     "text": [
      "80\n",
      "47\n",
      "44\n",
      "11\n",
      "36\n",
      "\n",
      "\n",
      "set1 = 80 possibly repeated values\n",
      "set2 = unique values generated between 0-100, 80 initially but then removed the duplicates\n",
      "set3 is numbers exclusive to set 1\n",
      "set4 is numbers exclusive to set 2\n",
      "set5 is interesection of both sets\n",
      "\n",
      "\n",
      "set1= set3 + set5\n"
     ]
    },
    {
     "data": {
      "text/plain": [
       "'set1 plus set2, 80 + 47, is the same as saying set3, 44, + set4, 11, plus twice set5, 36'"
      ]
     },
     "execution_count": 136,
     "metadata": {},
     "output_type": "execute_result"
    }
   ],
   "source": [
    "print(len(set1))\n",
    "print(len(set2))\n",
    "print(len(set3))\n",
    "print(len(set4))\n",
    "print(len(set5))\n",
    "print(\"\\n\")\n",
    "print(\"set1 = 80 possibly repeated values\")\n",
    "print(\"set2 = unique values generated between 0-100, 80 initially but then removed the duplicates\")\n",
    "print(\"set3 is numbers exclusive to set 1\")\n",
    "print(\"set4 is numbers exclusive to set 2\")\n",
    "print(\"set5 is interesection of both sets\")\n",
    "print(\"\\n\")\n",
    "print(\"set1= set3 + set5\")\n",
    "f\"set1 takes the value of {len(set1)} and representes set3, {len(set3)}, plus set5, {len(set5)}\"\n",
    "f\"set1 plus set2, {len(set1)} + {len(set2)}, is the same as saying set3, {len(set3)}, + set4, {len(set4)}, plus twice set5, {len(set5)}\""
   ]
  },
  {
   "cell_type": "markdown",
   "metadata": {},
   "source": [
    "#### Create an empty set called `set6`."
   ]
  },
  {
   "cell_type": "code",
   "execution_count": 121,
   "metadata": {},
   "outputs": [],
   "source": [
    "set6=set()\n"
   ]
  },
  {
   "cell_type": "markdown",
   "metadata": {},
   "source": [
    "#### Add `set3` and `set5` to `set6` using the Python Set `update` method."
   ]
  },
  {
   "cell_type": "code",
   "execution_count": 122,
   "metadata": {},
   "outputs": [
    {
     "name": "stdout",
     "output_type": "stream",
     "text": [
      "{2, 4, 5, 7, 8, 10, 13, 16, 17, 18, 20, 22, 23, 25, 26, 30, 32, 34, 36, 37, 38, 40, 42, 43, 44, 46, 47, 48, 50, 52, 53, 54, 55, 56, 58, 60, 62, 63, 64, 65, 66, 68, 70, 72, 73, 74, 75, 76, 77, 82, 83, 84, 85, 86, 87, 88, 90, 92, 93, 94, 95, 96, 98}\n"
     ]
    }
   ],
   "source": [
    "set6.update(set3)\n",
    "set6.update(set5)\n",
    "print(set6)"
   ]
  },
  {
   "cell_type": "markdown",
   "metadata": {},
   "source": [
    "#### Check if `set1` and `set6` are equal."
   ]
  },
  {
   "cell_type": "code",
   "execution_count": 123,
   "metadata": {},
   "outputs": [
    {
     "name": "stdout",
     "output_type": "stream",
     "text": [
      "They're the same\n"
     ]
    }
   ],
   "source": [
    "if set1 == set6:\n",
    "    print(\"They're the same\")\n",
    "else:\n",
    "    print(\"They're not the same\")\n"
   ]
  },
  {
   "cell_type": "markdown",
   "metadata": {},
   "source": [
    "#### Check if `set1` contains `set2` using the Python Set `issubset` method. Then check if `set1` contains `set3`.*"
   ]
  },
  {
   "cell_type": "code",
   "execution_count": 124,
   "metadata": {},
   "outputs": [
    {
     "name": "stdout",
     "output_type": "stream",
     "text": [
      "False\n",
      "True\n"
     ]
    }
   ],
   "source": [
    "print(set2.issubset(set1))\n",
    "print(set3.issubset(set1))"
   ]
  },
  {
   "cell_type": "markdown",
   "metadata": {},
   "source": [
    "#### Using the Python Set `union` method, aggregate `set3`, `set4`, and `set5`. Then aggregate `set1` and `set2`. \n",
    "\n",
    "#### Check if the aggregated values are equal."
   ]
  },
  {
   "cell_type": "code",
   "execution_count": 125,
   "metadata": {},
   "outputs": [
    {
     "name": "stdout",
     "output_type": "stream",
     "text": [
      "84\n",
      "84\n"
     ]
    }
   ],
   "source": [
    "print(len(set3.union(set4,set5)))\n",
    "print(len(set1.union(set2)))\n",
    "#they're the same!"
   ]
  },
  {
   "cell_type": "markdown",
   "metadata": {},
   "source": [
    "#### Using the `pop` method, remove the first element from `set1`."
   ]
  },
  {
   "cell_type": "code",
   "execution_count": 126,
   "metadata": {},
   "outputs": [
    {
     "name": "stdout",
     "output_type": "stream",
     "text": [
      "{4, 5, 7, 8, 10, 13, 16, 17, 18, 20, 22, 23, 25, 26, 30, 32, 34, 36, 37, 38, 40, 42, 43, 44, 46, 47, 48, 50, 52, 53, 54, 55, 56, 58, 60, 62, 63, 64, 65, 66, 68, 70, 72, 73, 74, 75, 76, 77, 82, 83, 84, 85, 86, 87, 88, 90, 92, 93, 94, 95, 96, 98}\n"
     ]
    }
   ],
   "source": [
    "set1.pop()\n",
    "print(set1)"
   ]
  },
  {
   "cell_type": "markdown",
   "metadata": {},
   "source": [
    "#### Remove every element in the following list from `set1` if they are present in the set. Print the remaining elements.\n",
    "\n",
    "```\n",
    "list_to_remove = [1, 9, 11, 19, 21, 29, 31, 39, 41, 49, 51, 59, 61, 69, 71, 79, 81, 89, 91, 99]\n",
    "```"
   ]
  },
  {
   "cell_type": "code",
   "execution_count": 127,
   "metadata": {},
   "outputs": [
    {
     "name": "stdout",
     "output_type": "stream",
     "text": [
      "list_to_remove\n",
      "[1, 9, 11, 19, 21, 29, 31, 39, 41, 49, 51, 59, 61, 69, 71, 79, 81, 89, 91, 99]\n",
      "set1\n",
      "{4, 5, 7, 8, 10, 13, 16, 17, 18, 20, 22, 23, 25, 26, 30, 32, 34, 36, 37, 38, 40, 42, 43, 44, 46, 47, 48, 50, 52, 53, 54, 55, 56, 58, 60, 62, 63, 64, 65, 66, 68, 70, 72, 73, 74, 75, 76, 77, 82, 83, 84, 85, 86, 87, 88, 90, 92, 93, 94, 95, 96, 98}\n",
      "\n",
      "\n",
      "cleaned set\n",
      "{4, 5, 7, 8, 10, 13, 16, 17, 18, 20, 22, 23, 25, 26, 30, 32, 34, 36, 37, 38, 40, 42, 43, 44, 46, 47, 48, 50, 52, 53, 54, 55, 56, 58, 60, 62, 63, 64, 65, 66, 68, 70, 72, 73, 74, 75, 76, 77, 82, 83, 84, 85, 86, 87, 88, 90, 92, 93, 94, 95, 96, 98}\n"
     ]
    }
   ],
   "source": [
    "list_to_remove = [1, 9, 11, 19, 21, 29, 31, 39, 41, 49, 51, 59, 61, 69, 71, 79, 81, 89, 91, 99]\n",
    "print(\"list_to_remove\")\n",
    "print(list_to_remove)\n",
    "print(\"set1\")\n",
    "print(set1)\n",
    "print(\"\\n\")\n",
    "print(\"cleaned set\")\n",
    "for i in list_to_remove:\n",
    "    if i in set1:\n",
    "        set1.remove(i)\n",
    "print(set1)"
   ]
  },
  {
   "cell_type": "code",
   "execution_count": null,
   "metadata": {},
   "outputs": [],
   "source": []
  }
 ],
 "metadata": {
  "kernelspec": {
   "display_name": "Python 3 (ipykernel)",
   "language": "python",
   "name": "python3"
  },
  "language_info": {
   "codemirror_mode": {
    "name": "ipython",
    "version": 3
   },
   "file_extension": ".py",
   "mimetype": "text/x-python",
   "name": "python",
   "nbconvert_exporter": "python",
   "pygments_lexer": "ipython3",
   "version": "3.11.4"
  },
  "nbTranslate": {
   "displayLangs": [
    "en",
    "es"
   ],
   "hotkey": "alt-a",
   "langInMainMenu": true,
   "sourceLang": "es",
   "targetLang": "en",
   "useGoogleTranslate": true
  },
  "toc": {
   "base_numbering": 1,
   "nav_menu": {},
   "number_sections": true,
   "sideBar": true,
   "skip_h1_title": false,
   "title_cell": "Table of Contents",
   "title_sidebar": "Contents",
   "toc_cell": false,
   "toc_position": {},
   "toc_section_display": true,
   "toc_window_display": false
  }
 },
 "nbformat": 4,
 "nbformat_minor": 2
}
