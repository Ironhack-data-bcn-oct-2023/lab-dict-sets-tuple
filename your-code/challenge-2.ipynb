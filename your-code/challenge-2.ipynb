{
 "cells": [
  {
   "cell_type": "markdown",
   "metadata": {},
   "source": [
    "## Challenge 2: Sets\n",
    "\n",
    "There are a lot to learn about Python Sets and the information presented in the lesson is limited due to its length. To learn Python Sets in depth you are strongly encouraged to review the W3Schools tutorial on [Python Sets Examples and Methods](https://www.w3schools.com/python/python_sets.asp) before you work on this lab. Some difficult questions in this lab have their solutions in the W3Schools tutorial.\n",
    "\n",
    "#### First, import the Python `random` library."
   ]
  },
  {
   "cell_type": "code",
   "execution_count": 1,
   "metadata": {},
   "outputs": [],
   "source": [
    "import random"
   ]
  },
  {
   "cell_type": "markdown",
   "metadata": {},
   "source": [
    "⚠️ Did you get: module not found? Try, in a cell: <br>\n",
    "`!pip install random`<br>\n",
    "`import random`"
   ]
  },
  {
   "cell_type": "markdown",
   "metadata": {},
   "source": [
    "#### In the cell below, create a list named `sample_list_1` with 80 random values. \n",
    "\n",
    "Requirements:\n",
    "\n",
    "* Each value is an integer falling between 0 and 100.\n",
    "* Each value in the list is unique.\n",
    "\n",
    "Print `sample_list_1` to review its values\n",
    "\n",
    "*Hint: use `random.sample` ([reference](https://docs.python.org/3/library/random.html#random.sample)).*"
   ]
  },
  {
   "cell_type": "code",
   "execution_count": 8,
   "metadata": {},
   "outputs": [
    {
     "name": "stdout",
     "output_type": "stream",
     "text": [
      "[69, 2, 73, 56, 3, 47, 17, 10, 79, 65, 72, 29, 28, 57, 54, 43, 42, 78, 52, 38, 58, 51, 36, 61, 53, 48, 46, 25, 26, 74, 41, 18, 71, 76, 24, 12, 66, 35, 1, 39, 19, 77, 70, 11, 34, 30, 49, 7, 50, 0, 22, 45, 32, 59, 60, 55, 13, 20, 62, 4, 75, 8, 64, 15, 33, 23, 16, 5, 6, 68, 27, 31, 37, 14, 44, 21, 40, 9, 80, 67]\n"
     ]
    }
   ],
   "source": [
    "# Your code here\n",
    "\n",
    "sample_list_1 = random.sample(range(81), 80)\n",
    "\n",
    "print(sample_list_1)"
   ]
  },
  {
   "cell_type": "markdown",
   "metadata": {},
   "source": [
    "#### Convert `sample_list_1` to a set called `set1`. Print the length of the set. Is its length still 80?"
   ]
  },
  {
   "cell_type": "code",
   "execution_count": 10,
   "metadata": {},
   "outputs": [
    {
     "name": "stdout",
     "output_type": "stream",
     "text": [
      "{0, 1, 2, 3, 4, 5, 6, 7, 8, 9, 10, 11, 12, 13, 14, 15, 16, 17, 18, 19, 20, 21, 22, 23, 24, 25, 26, 27, 28, 29, 30, 31, 32, 33, 34, 35, 36, 37, 38, 39, 40, 41, 42, 43, 44, 45, 46, 47, 48, 49, 50, 51, 52, 53, 54, 55, 56, 57, 58, 59, 60, 61, 62, 64, 65, 66, 67, 68, 69, 70, 71, 72, 73, 74, 75, 76, 77, 78, 79, 80}\n"
     ]
    }
   ],
   "source": [
    "# Your code here\n",
    "\n",
    "sample_list_1 = [69, 2, 73, 56, 3, 47, 17, 10, 79, 65, 72, 29, 28, 57, 54, 43, 42, 78, 52, 38, 58, 51, 36, 61, 53, 48, 46, 25, 26, 74, 41, 18, 71, 76, 24, 12, 66, 35, 1, 39, 19, 77, 70, 11, 34, 30, 49, 7, 50, 0, 22, 45, 32, 59, 60, 55, 13, 20, 62, 4, 75, 8, 64, 15, 33, 23, 16, 5, 6, 68, 27, 31, 37, 14, 44, 21, 40, 9, 80, 67]\n",
    "\n",
    "set1 = set(sample_list_1)\n",
    "\n",
    "print(set1)\n",
    "\n",
    "# Is its length still 80? = Yes"
   ]
  },
  {
   "cell_type": "markdown",
   "metadata": {},
   "source": [
    "#### Create another list named `sample_list_2` with 80 random values.\n",
    "\n",
    "Requirements:\n",
    "\n",
    "* Each value is an integer falling between 0 and 100.\n",
    "* The values in the list don't have to be unique.\n",
    "\n",
    "*Hint: Use a FOR loop.*"
   ]
  },
  {
   "cell_type": "code",
   "execution_count": 13,
   "metadata": {},
   "outputs": [
    {
     "name": "stdout",
     "output_type": "stream",
     "text": [
      "[45, 27, 34, 72, 58, 26, 71, 20, 23, 6, 55, 15, 35, 23, 53, 45, 36, 45, 41, 19, 44, 22, 7, 64, 56, 64, 61, 4, 69, 47, 43, 52, 59, 41, 38, 29, 69, 64, 31, 9, 42, 19, 27, 38, 79, 11, 9, 71, 48, 23, 72, 79, 3, 79, 34, 25, 38, 23, 3, 22, 73, 41, 35, 4, 56, 2, 15, 18, 25, 64, 15, 9, 31, 46, 5, 25, 34, 28, 29, 12]\n"
     ]
    }
   ],
   "source": [
    "# Your code here\n",
    "\n",
    "sample_list_2 = []\n",
    "\n",
    "for i in range(80):\n",
    "    random_value = random.randint(0, 80)\n",
    "    sample_list_2.append(random_value)\n",
    "\n",
    "print(sample_list_2)"
   ]
  },
  {
   "cell_type": "markdown",
   "metadata": {},
   "source": [
    "#### Convert `sample_list_2` to a set called `set2`. Print the length of the set. Is its length still 80?"
   ]
  },
  {
   "cell_type": "code",
   "execution_count": 15,
   "metadata": {},
   "outputs": [
    {
     "name": "stdout",
     "output_type": "stream",
     "text": [
      "{2, 3, 4, 5, 6, 7, 9, 11, 12, 15, 18, 19, 20, 22, 23, 25, 26, 27, 28, 29, 31, 34, 35, 36, 38, 41, 42, 43, 44, 45, 46, 47, 48, 52, 53, 55, 56, 58, 59, 61, 64, 69, 71, 72, 73, 79}\n"
     ]
    }
   ],
   "source": [
    "# Your code here\n",
    "\n",
    "sample_list_2 = [45, 27, 34, 72, 58, 26, 71, 20, 23, 6, 55, 15, 35, 23, 53, 45, 36, 45, 41, 19, 44, 22, 7, 64, 56, 64, 61, 4, 69, 47, 43, 52, 59, 41, 38, 29, 69, 64, 31, 9, 42, 19, 27, 38, 79, 11, 9, 71, 48, 23, 72, 79, 3, 79, 34, 25, 38, 23, 3, 22, 73, 41, 35, 4, 56, 2, 15, 18, 25, 64, 15, 9, 31, 46, 5, 25, 34, 28, 29, 12]\n",
    "\n",
    "set2 = set(sample_list_2)\n",
    "\n",
    "print(set2)\n",
    "\n",
    "# Is its length still 80? = No"
   ]
  },
  {
   "cell_type": "markdown",
   "metadata": {},
   "source": [
    "#### Identify the elements present in `set1` but not in `set2`. Assign the elements to a new set named `set3`."
   ]
  },
  {
   "cell_type": "code",
   "execution_count": 16,
   "metadata": {},
   "outputs": [
    {
     "name": "stdout",
     "output_type": "stream",
     "text": [
      "Elements present in set1 but not in set2 (set3):\n",
      "{0, 1, 8, 10, 13, 14, 16, 17, 21, 24, 30, 32, 33, 37, 39, 40, 49, 50, 51, 54, 57, 60, 62, 65, 66, 67, 68, 70, 74, 75, 76, 77, 78, 80}\n"
     ]
    }
   ],
   "source": [
    "# Your code here\n",
    "\n",
    "set1 = {0, 1, 2, 3, 4, 5, 6, 7, 8, 9, 10, 11, 12, 13, 14, 15, 16, 17, 18, 19, 20, 21, 22, 23, 24, 25, 26, 27, 28, 29, 30, 31, 32, 33, 34, 35, 36, 37, 38, 39, 40, 41, 42, 43, 44, 45, 46, 47, 48, 49, 50, 51, 52, 53, 54, 55, 56, 57, 58, 59, 60, 61, 62, 64, 65, 66, 67, 68, 69, 70, 71, 72, 73, 74, 75, 76, 77, 78, 79, 80}\n",
    "set2 = {2, 3, 4, 5, 6, 7, 9, 11, 12, 15, 18, 19, 20, 22, 23, 25, 26, 27, 28, 29, 31, 34, 35, 36, 38, 41, 42, 43, 44, 45, 46, 47, 48, 52, 53, 55, 56, 58, 59, 61, 64, 69, 71, 72, 73, 79}\n",
    "\n",
    "set3 = set1 - set2\n",
    "\n",
    "print(\"Elements present in set1 but not in set2 (set3):\")\n",
    "print(set3)"
   ]
  },
  {
   "cell_type": "markdown",
   "metadata": {},
   "source": [
    "#### Identify the elements present in `set2` but not in `set1`. Assign the elements to a new set named `set4`."
   ]
  },
  {
   "cell_type": "code",
   "execution_count": 19,
   "metadata": {},
   "outputs": [
    {
     "name": "stdout",
     "output_type": "stream",
     "text": [
      "Elements present in set2 but not in set1 (set4):\n",
      "set()\n"
     ]
    }
   ],
   "source": [
    "# Your code here\n",
    "\n",
    "set1 = {0, 1, 2, 3, 4, 5, 6, 7, 8, 9, 10, 11, 12, 13, 14, 15, 16, 17, 18, 19, 20, 21, 22, 23, 24, 25, 26, 27, 28, 29, 30, 31, 32, 33, 34, 35, 36, 37, 38, 39, 40, 41, 42, 43, 44, 45, 46, 47, 48, 49, 50, 51, 52, 53, 54, 55, 56, 57, 58, 59, 60, 61, 62, 64, 65, 66, 67, 68, 69, 70, 71, 72, 73, 74, 75, 76, 77, 78, 79, 80}\n",
    "set2 = {2, 3, 4, 5, 6, 7, 9, 11, 12, 15, 18, 19, 20, 22, 23, 25, 26, 27, 28, 29, 31, 34, 35, 36, 38, 41, 42, 43, 44, 45, 46, 47, 48, 52, 53, 55, 56, 58, 59, 61, 64, 69, 71, 72, 73, 79}\n",
    "\n",
    "set4 = set2 - set1\n",
    "\n",
    "print(\"Elements present in set2 but not in set1 (set4):\")\n",
    "print(set4)"
   ]
  },
  {
   "cell_type": "markdown",
   "metadata": {},
   "source": [
    "#### Now Identify the elements shared between `set1` and `set2`. Assign the elements to a new set named `set5`."
   ]
  },
  {
   "cell_type": "code",
   "execution_count": 18,
   "metadata": {},
   "outputs": [
    {
     "name": "stdout",
     "output_type": "stream",
     "text": [
      "Elements shared between set1 and set2 (set5):\n",
      "{2, 3, 4, 5, 6, 7, 9, 11, 12, 15, 18, 19, 20, 22, 23, 25, 26, 27, 28, 29, 31, 34, 35, 36, 38, 41, 42, 43, 44, 45, 46, 47, 48, 52, 53, 55, 56, 58, 59, 61, 64, 69, 71, 72, 73, 79}\n"
     ]
    }
   ],
   "source": [
    "# Your code here\n",
    "\n",
    "set1 = {0, 1, 2, 3, 4, 5, 6, 7, 8, 9, 10, 11, 12, 13, 14, 15, 16, 17, 18, 19, 20, 21, 22, 23, 24, 25, 26, 27, 28, 29, 30, 31, 32, 33, 34, 35, 36, 37, 38, 39, 40, 41, 42, 43, 44, 45, 46, 47, 48, 49, 50, 51, 52, 53, 54, 55, 56, 57, 58, 59, 60, 61, 62, 64, 65, 66, 67, 68, 69, 70, 71, 72, 73, 74, 75, 76, 77, 78, 79, 80}\n",
    "set2 = {2, 3, 4, 5, 6, 7, 9, 11, 12, 15, 18, 19, 20, 22, 23, 25, 26, 27, 28, 29, 31, 34, 35, 36, 38, 41, 42, 43, 44, 45, 46, 47, 48, 52, 53, 55, 56, 58, 59, 61, 64, 69, 71, 72, 73, 79}\n",
    "\n",
    "set5 = set1 & set2\n",
    "\n",
    "print(\"Elements shared between set1 and set2 (set5):\")\n",
    "print(set5)"
   ]
  },
  {
   "cell_type": "markdown",
   "metadata": {},
   "source": [
    "#### What is the relationship among the following values:\n",
    "\n",
    "* len(set1)\n",
    "* len(set2)\n",
    "* len(set3)\n",
    "* len(set4)\n",
    "* len(set5)\n",
    "\n",
    "Use a math formula to represent that relationship. Test your formula with Python code. Eg.: \n",
    "\n",
    "- my age is 30\n",
    "- my son is 10\n",
    "- my dad's twice my age\n",
    "- my grandmother is three times my age minus my son's_age\n",
    "\n",
    "\n",
    "A formula relating all these values would be:\n",
    "\n",
    "`my_grandmother = my_age + my_dad's_age - my_sons_age`\n",
    "\n",
    "Does this evaluate to True or to False?"
   ]
  },
  {
   "cell_type": "code",
   "execution_count": 20,
   "metadata": {},
   "outputs": [
    {
     "name": "stdout",
     "output_type": "stream",
     "text": [
      "Is the formula True? True\n"
     ]
    }
   ],
   "source": [
    "# Your code here\n",
    "\n",
    "set1 = {0, 1, 2, 3, 4, 5, 6, 7, 8, 9, 10, 11, 12, 13, 14, 15, 16, 17, 18, 19, 20, 21, 22, 23, 24, 25, 26, 27, 28, 29, 30, 31, 32, 33, 34, 35, 36, 37, 38, 39, 40, 41, 42, 43, 44, 45, 46, 47, 48, 49, 50, 51, 52, 53, 54, 55, 56, 57, 58, 59, 60, 61, 62, 64, 65, 66, 67, 68, 69, 70, 71, 72, 73, 74, 75, 76, 77, 78, 79, 80}\n",
    "set2 = {2, 3, 4, 5, 6, 7, 9, 11, 12, 15, 18, 19, 20, 22, 23, 25, 26, 27, 28, 29, 31, 34, 35, 36, 38, 41, 42, 43, 44, 45, 46, 47, 48, 52, 53, 55, 56, 58, 59, 61, 64, 69, 71, 72, 73, 79}\n",
    "set3 = set1 - set2\n",
    "set4 = set2 - set1\n",
    "set5 = set1 & set2\n",
    "\n",
    "left_side = len(set1) + len(set2)\n",
    "right_side = len(set3) + len(set4) + 2 * len(set5)\n",
    "\n",
    "is_true = left_side == right_side\n",
    "\n",
    "print(\"Is the formula True?\", is_true)"
   ]
  },
  {
   "cell_type": "markdown",
   "metadata": {},
   "source": [
    "#### Create an empty set called `set6`."
   ]
  },
  {
   "cell_type": "code",
   "execution_count": 28,
   "metadata": {},
   "outputs": [
    {
     "name": "stdout",
     "output_type": "stream",
     "text": [
      "()\n"
     ]
    }
   ],
   "source": [
    "# Your code here\n",
    "\n",
    "set6 = ()\n",
    "print(set6)"
   ]
  },
  {
   "cell_type": "markdown",
   "metadata": {},
   "source": [
    "#### Add `set3` and `set5` to `set6` using the Python Set `update` method."
   ]
  },
  {
   "cell_type": "code",
   "execution_count": 29,
   "metadata": {},
   "outputs": [
    {
     "name": "stdout",
     "output_type": "stream",
     "text": [
      "{0, 1, 2, 3, 4, 5, 6, 7, 8, 9, 10, 11, 12, 13, 14, 15, 16, 17, 18, 19, 20, 21, 22, 23, 24, 25, 26, 27, 28, 29, 30, 31, 32, 33, 34, 35, 36, 37, 38, 39, 40, 41, 42, 43, 44, 45, 46, 47, 48, 49, 50, 51, 52, 53, 54, 55, 56, 57, 58, 59, 60, 61, 62, 64, 65, 66, 67, 68, 69, 70, 71, 72, 73, 74, 75, 76, 77, 78, 79, 80}\n"
     ]
    }
   ],
   "source": [
    "# Your code here\n",
    "\n",
    "set3 = {0, 1, 8, 10, 13, 14, 16, 17, 21, 24, 30, 32, 33, 37, 39, 40, 49, 50, 51, 54, 57, 60, 62, 65, 66, 67, 68, 70, 74, 75, 76, 77, 78, 80}\n",
    "set5 = {2, 3, 4, 5, 6, 7, 9, 11, 12, 15, 18, 19, 20, 22, 23, 25, 26, 27, 28, 29, 31, 34, 35, 36, 38, 41, 42, 43, 44, 45, 46, 47, 48, 52, 53, 55, 56, 58, 59, 61, 64, 69, 71, 72, 73, 79}\n",
    "\n",
    "set6 = set()\n",
    "\n",
    "set6.update(set3)\n",
    "set6.update(set5)\n",
    "\n",
    "print(set6)"
   ]
  },
  {
   "cell_type": "markdown",
   "metadata": {},
   "source": [
    "#### Check if `set1` and `set6` are equal."
   ]
  },
  {
   "cell_type": "code",
   "execution_count": 30,
   "metadata": {},
   "outputs": [
    {
     "name": "stdout",
     "output_type": "stream",
     "text": [
      "True\n"
     ]
    }
   ],
   "source": [
    "# Your code here\n",
    "\n",
    "set1 = {0, 1, 2, 3, 4, 5, 6, 7, 8, 9, 10, 11, 12, 13, 14, 15, 16, 17, 18, 19, 20, 21, 22, 23, 24, 25, 26, 27, 28, 29, 30, 31, 32, 33, 34, 35, 36, 37, 38, 39, 40, 41, 42, 43, 44, 45, 46, 47, 48, 49, 50, 51, 52, 53, 54, 55, 56, 57, 58, 59, 60, 61, 62, 64, 65, 66, 67, 68, 69, 70, 71, 72, 73, 74, 75, 76, 77, 78, 79, 80}\n",
    "set6 = {0, 1, 2, 3, 4, 5, 6, 7, 8, 9, 10, 11, 12, 13, 14, 15, 16, 17, 18, 19, 20, 21, 22, 23, 24, 25, 26, 27, 28, 29, 30, 31, 32, 33, 34, 35, 36, 37, 38, 39, 40, 41, 42, 43, 44, 45, 46, 47, 48, 49, 50, 51, 52, 53, 54, 55, 56, 57, 58, 59, 60, 61, 62, 64, 65, 66, 67, 68, 69, 70, 71, 72, 73, 74, 75, 76, 77, 78, 79, 80}\n",
    "\n",
    "print(set1==set6)"
   ]
  },
  {
   "cell_type": "markdown",
   "metadata": {},
   "source": [
    "#### Check if `set1` contains `set2` using the Python Set `issubset` method. Then check if `set1` contains `set3`.*"
   ]
  },
  {
   "cell_type": "code",
   "execution_count": 32,
   "metadata": {},
   "outputs": [
    {
     "name": "stdout",
     "output_type": "stream",
     "text": [
      "Is set2 a subset of set1? True\n",
      "Does set1 contain set3? True\n"
     ]
    }
   ],
   "source": [
    "# Your code here\n",
    "\n",
    "set1 = {0, 1, 2, 3, 4, 5, 6, 7, 8, 9, 10, 11, 12, 13, 14, 15, 16, 17, 18, 19, 20, 21, 22, 23, 24, 25, 26, 27, 28, 29, 30, 31, 32, 33, 34, 35, 36, 37, 38, 39, 40, 41, 42, 43, 44, 45, 46, 47, 48, 49, 50, 51, 52, 53, 54, 55, 56, 57, 58, 59, 60, 61, 62, 64, 65, 66, 67, 68, 69, 70, 71, 72, 73, 74, 75, 76, 77, 78, 79, 80}\n",
    "set2 = {2, 3, 4, 5, 6, 7, 9, 11, 12, 15, 18, 19, 20, 22, 23, 25, 26, 27, 28, 29, 31, 34, 35, 36, 38, 41, 42, 43, 44, 45, 46, 47, 48, 52, 53, 55, 56, 58, 59, 61, 64, 69, 71, 72, 73, 79}\n",
    "set3 = {0, 1, 8, 10, 13, 14, 16, 17, 21, 24, 30, 32, 33, 37, 39, 40, 49, 50, 51, 54, 57, 60, 62, 65, 66, 67, 68, 70, 74, 75, 76, 77, 78, 80}\n",
    "\n",
    "is_set2_subset_of_set1 = set2.issubset(set1)\n",
    "is_set1_contains_set3 = set1.issuperset(set3)\n",
    "\n",
    "print(\"Is set2 a subset of set1?\", is_set2_subset_of_set1)\n",
    "print(\"Does set1 contain set3?\", is_set1_contains_set3)"
   ]
  },
  {
   "cell_type": "markdown",
   "metadata": {},
   "source": [
    "#### Using the Python Set `union` method, aggregate `set3`, `set4`, and `set5`. Then aggregate `set1` and `set2`. \n",
    "\n",
    "#### Check if the aggregated values are equal."
   ]
  },
  {
   "cell_type": "code",
   "execution_count": 33,
   "metadata": {},
   "outputs": [
    {
     "name": "stdout",
     "output_type": "stream",
     "text": [
      "Are the aggregated sets equal? True\n"
     ]
    }
   ],
   "source": [
    "# Your code here\n",
    "\n",
    "set1 = {0, 1, 2, 3, 4, 5, 6, 7, 8, 9, 10, 11, 12, 13, 14, 15, 16, 17, 18, 19, 20, 21, 22, 23, 24, 25, 26, 27, 28, 29, 30, 31, 32, 33, 34, 35, 36, 37, 38, 39, 40, 41, 42, 43, 44, 45, 46, 47, 48, 49, 50, 51, 52, 53, 54, 55, 56, 57, 58, 59, 60, 61, 62, 64, 65, 66, 67, 68, 69, 70, 71, 72, 73, 74, 75, 76, 77, 78, 79, 80}\n",
    "set2 = {2, 3, 4, 5, 6, 7, 9, 11, 12, 15, 18, 19, 20, 22, 23, 25, 26, 27, 28, 29, 31, 34, 35, 36, 38, 41, 42, 43, 44, 45, 46, 47, 48, 52, 53, 55, 56, 58, 59, 61, 64, 69, 71, 72, 73, 79}\n",
    "set3 = {0, 1, 8, 10, 13, 14, 16, 17, 21, 24, 30, 32, 33, 37, 39, 40, 49, 50, 51, 54, 57, 60, 62, 65, 66, 67, 68, 70, 74, 75, 76, 77, 78, 80}\n",
    "set4 = set2 - set1\n",
    "set5 = set1 & set2\n",
    "\n",
    "aggregated_set_1 = set3.union(set4, set5)\n",
    "\n",
    "aggregated_set_2 = set1.union(set2)\n",
    "\n",
    "are_aggregated_sets_equal = aggregated_set_1 == aggregated_set_2\n",
    "\n",
    "print(\"Are the aggregated sets equal?\", are_aggregated_sets_equal)"
   ]
  },
  {
   "cell_type": "markdown",
   "metadata": {},
   "source": [
    "#### Using the `pop` method, remove the first element from `set1`."
   ]
  },
  {
   "cell_type": "code",
   "execution_count": 36,
   "metadata": {},
   "outputs": [
    {
     "name": "stdout",
     "output_type": "stream",
     "text": [
      "{1, 2, 3, 4, 5, 6, 7, 8, 9, 10, 11, 12, 13, 14, 15, 16, 17, 18, 19, 20, 21, 22, 23, 24, 25, 26, 27, 28, 29, 30, 31, 32, 33, 34, 35, 36, 37, 38, 39, 40, 41, 42, 43, 44, 45, 46, 47, 48, 49, 50, 51, 52, 53, 54, 55, 56, 57, 58, 59, 60, 61, 62, 64, 65, 66, 67, 68, 69, 70, 71, 72, 73, 74, 75, 76, 77, 78, 79, 80}\n"
     ]
    }
   ],
   "source": [
    "# Your code here\n",
    "\n",
    "set1 = {0, 1, 2, 3, 4, 5, 6, 7, 8, 9, 10, 11, 12, 13, 14, 15, 16, 17, 18, 19, 20, 21, 22, 23, 24, 25, 26, 27, 28, 29, 30, 31, 32, 33, 34, 35, 36, 37, 38, 39, 40, 41, 42, 43, 44, 45, 46, 47, 48, 49, 50, 51, 52, 53, 54, 55, 56, 57, 58, 59, 60, 61, 62, 64, 65, 66, 67, 68, 69, 70, 71, 72, 73, 74, 75, 76, 77, 78, 79, 80}\n",
    "\n",
    "set1.pop()\n",
    "\n",
    "print(set1)"
   ]
  },
  {
   "cell_type": "markdown",
   "metadata": {},
   "source": [
    "#### Remove every element in the following list from `set1` if they are present in the set. Print the remaining elements.\n",
    "\n",
    "```\n",
    "list_to_remove = [1, 9, 11, 19, 21, 29, 31, 39, 41, 49, 51, 59, 61, 69, 71, 79, 81, 89, 91, 99]\n",
    "```"
   ]
  },
  {
   "cell_type": "code",
   "execution_count": 37,
   "metadata": {},
   "outputs": [
    {
     "name": "stdout",
     "output_type": "stream",
     "text": [
      "{0, 2, 3, 4, 5, 6, 7, 8, 10, 12, 13, 14, 15, 16, 17, 18, 20, 22, 23, 24, 25, 26, 27, 28, 30, 32, 33, 34, 35, 36, 37, 38, 40, 42, 43, 44, 45, 46, 47, 48, 50, 52, 53, 54, 55, 56, 57, 58, 60, 62, 64, 65, 66, 67, 68, 70, 72, 73, 74, 75, 76, 77, 78, 80}\n"
     ]
    }
   ],
   "source": [
    "# Your code here\n",
    "\n",
    "set1 = {0, 1, 2, 3, 4, 5, 6, 7, 8, 9, 10, 11, 12, 13, 14, 15, 16, 17, 18, 19, 20, 21, 22, 23, 24, 25, 26, 27, 28, 29, 30, 31, 32, 33, 34, 35, 36, 37, 38, 39, 40, 41, 42, 43, 44, 45, 46, 47, 48, 49, 50, 51, 52, 53, 54, 55, 56, 57, 58, 59, 60, 61, 62, 64, 65, 66, 67, 68, 69, 70, 71, 72, 73, 74, 75, 76, 77, 78, 79, 80}\n",
    "list_to_remove = [1, 9, 11, 19, 21, 29, 31, 39, 41, 49, 51, 59, 61, 69, 71, 79, 81, 89, 91, 99]\n",
    "\n",
    "res = set1 - set(list_to_remove)\n",
    "\n",
    "print(res)"
   ]
  },
  {
   "cell_type": "code",
   "execution_count": null,
   "metadata": {},
   "outputs": [],
   "source": []
  }
 ],
 "metadata": {
  "kernelspec": {
   "display_name": "Python 3 (ipykernel)",
   "language": "python",
   "name": "python3"
  },
  "language_info": {
   "codemirror_mode": {
    "name": "ipython",
    "version": 3
   },
   "file_extension": ".py",
   "mimetype": "text/x-python",
   "name": "python",
   "nbconvert_exporter": "python",
   "pygments_lexer": "ipython3",
   "version": "3.11.5"
  },
  "nbTranslate": {
   "displayLangs": [
    "en",
    "es"
   ],
   "hotkey": "alt-a",
   "langInMainMenu": true,
   "sourceLang": "es",
   "targetLang": "en",
   "useGoogleTranslate": true
  },
  "toc": {
   "base_numbering": 1,
   "nav_menu": {},
   "number_sections": true,
   "sideBar": true,
   "skip_h1_title": false,
   "title_cell": "Table of Contents",
   "title_sidebar": "Contents",
   "toc_cell": false,
   "toc_position": {},
   "toc_section_display": true,
   "toc_window_display": false
  }
 },
 "nbformat": 4,
 "nbformat_minor": 2
}
