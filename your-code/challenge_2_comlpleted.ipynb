{
  "cells": [
    {
      "cell_type": "markdown",
      "metadata": {
        "id": "wHoxsPfLLKlR"
      },
      "source": [
        "## Challenge 2: Sets\n",
        "\n",
        "There are a lot to learn about Python Sets and the information presented in the lesson is limited due to its length. To learn Python Sets in depth you are strongly encouraged to review the W3Schools tutorial on [Python Sets Examples and Methods](https://www.w3schools.com/python/python_sets.asp) before you work on this lab. Some difficult questions in this lab have their solutions in the W3Schools tutorial.\n",
        "\n",
        "#### First, import the Python `random` library."
      ]
    },
    {
      "cell_type": "code",
      "execution_count": 1,
      "metadata": {
        "id": "GP_0CUhYLKlV"
      },
      "outputs": [],
      "source": [
        "import random"
      ]
    },
    {
      "cell_type": "markdown",
      "metadata": {
        "id": "xr1PaLQ7LKlX"
      },
      "source": [
        "⚠️ Did you get: module not found? Try, in a cell: <br>\n",
        "`!pip install random`<br>\n",
        "`import random`"
      ]
    },
    {
      "cell_type": "markdown",
      "metadata": {
        "id": "Dv6_QRecLKlY"
      },
      "source": [
        "#### In the cell below, create a list named `sample_list_1` with 80 random values.\n",
        "\n",
        "Requirements:\n",
        "\n",
        "* Each value is an integer falling between 0 and 100.\n",
        "* Each value in the list is unique.\n",
        "\n",
        "Print `sample_list_1` to review its values\n",
        "\n",
        "*Hint: use `random.sample` ([reference](https://docs.python.org/3/library/random.html#random.sample)).*"
      ]
    },
    {
      "cell_type": "code",
      "execution_count": 4,
      "metadata": {
        "colab": {
          "base_uri": "https://localhost:8080/"
        },
        "id": "oS1q-D27LKlZ",
        "outputId": "018096d1-193a-4f95-c9c3-2059406b8856"
      },
      "outputs": [
        {
          "output_type": "stream",
          "name": "stdout",
          "text": [
            "[8, 79, 94, 59, 10, 12, 25, 76, 68, 33, 73, 39, 34, 36, 61, 58, 85, 100, 55, 89, 99, 42, 95, 82, 51, 97, 57, 38, 93, 96, 44, 5, 20, 24, 67, 31, 32, 90, 60, 21, 84, 19, 80, 11, 17, 45, 50, 70, 13, 66, 28, 30, 83, 77, 91, 87, 14, 56, 35, 16, 23, 48, 74, 88, 4, 22, 63, 53, 64, 62, 7, 71, 69, 41, 27, 78, 40, 9, 1, 15]\n"
          ]
        }
      ],
      "source": [
        "import random\n",
        "\n",
        "x = list(range(1,101))\n",
        "\n",
        "sample_list_1 = random.sample(x,80)\n",
        "\n",
        "print(sample_list_1)\n",
        "\n"
      ]
    },
    {
      "cell_type": "markdown",
      "metadata": {
        "id": "obxMzhYrLKlZ"
      },
      "source": [
        "#### Convert `sample_list_1` to a set called `set1`. Print the length of the set. Is its length still 80?"
      ]
    },
    {
      "cell_type": "code",
      "execution_count": 7,
      "metadata": {
        "colab": {
          "base_uri": "https://localhost:8080/"
        },
        "id": "xxqlYWRnLKlZ",
        "outputId": "ca74e4f8-2b9f-4808-ddc8-e048753fc7f3"
      },
      "outputs": [
        {
          "output_type": "stream",
          "name": "stdout",
          "text": [
            "yes the length is 80\n"
          ]
        }
      ],
      "source": [
        "x = list(range(1,101))\n",
        "\n",
        "sample_list_1 = random.sample(x,80)\n",
        "\n",
        "set1 = set(sample_list_1)\n",
        "\n",
        "if len(set1) == 80:\n",
        "   print(\"yes the length is 80\")\n",
        "else:\n",
        "  print(\"No the length is not 80\")\n",
        "\n"
      ]
    },
    {
      "cell_type": "markdown",
      "metadata": {
        "id": "iMX1anITLKla"
      },
      "source": [
        "#### Create another list named `sample_list_2` with 80 random values.\n",
        "\n",
        "Requirements:\n",
        "\n",
        "* Each value is an integer falling between 0 and 100.\n",
        "* The values in the list don't have to be unique.\n",
        "\n",
        "*Hint: Use a FOR loop.*"
      ]
    },
    {
      "cell_type": "code",
      "execution_count": 2,
      "metadata": {
        "colab": {
          "base_uri": "https://localhost:8080/"
        },
        "id": "FErtHsSxLKla",
        "outputId": "0139af4c-4a82-443b-8d76-b9ef633f7299"
      },
      "outputs": [
        {
          "output_type": "stream",
          "name": "stdout",
          "text": [
            "[63, 51, 10, 77, 75, 84, 36, 89, 95, 59, 72, 44, 76, 93, 3, 34, 32, 88, 44, 4, 84, 64, 60, 93, 66, 62, 74, 73, 27, 78, 80, 63, 77, 33, 25, 27, 38, 39, 32, 48, 24, 38, 25, 30, 88, 66, 2, 82, 99, 49, 56, 34, 2, 74, 79, 73, 18, 76, 55, 60, 72, 70, 19, 73, 14, 74, 33, 69, 97, 36, 70, 26, 22, 20, 21, 84, 25, 81, 30, 61]\n"
          ]
        }
      ],
      "source": [
        "import random\n",
        "\n",
        "x = list(range(1, 101))\n",
        "\n",
        "sample_list_2 = random.choices(x, k=80)\n",
        "\n",
        "print(sample_list_2)\n",
        "\n"
      ]
    },
    {
      "cell_type": "markdown",
      "metadata": {
        "id": "785JP5vULKlb"
      },
      "source": [
        "#### Convert `sample_list_2` to a set called `set2`. Print the length of the set. Is its length still 80?"
      ]
    },
    {
      "cell_type": "code",
      "execution_count": 26,
      "metadata": {
        "colab": {
          "base_uri": "https://localhost:8080/"
        },
        "id": "QbWj8X5sLKlb",
        "outputId": "70b3ae17-e742-41f2-95f3-6eab74e83608"
      },
      "outputs": [
        {
          "output_type": "stream",
          "name": "stdout",
          "text": [
            "No the length is not 80\n",
            "it is 56\n"
          ]
        }
      ],
      "source": [
        "import random\n",
        "\n",
        "x = list(range(1, 101))\n",
        "\n",
        "sample_list_2 = random.choices(x, k=80)\n",
        "\n",
        "set2 = set(sample_list_2)\n",
        "\n",
        "if len(set2) == 80:\n",
        "   print(\"yes the length is 80\")\n",
        "else:\n",
        "  print(\"No the length is not 80\")\n",
        "\n",
        "print(\"it is\", len(set2))\n",
        "\n"
      ]
    },
    {
      "cell_type": "markdown",
      "metadata": {
        "id": "303K1-MwLKlc"
      },
      "source": [
        "#### Identify the elements present in `set1` but not in `set2`. Assign the elements to a new set named `set3`."
      ]
    },
    {
      "cell_type": "code",
      "execution_count": 27,
      "metadata": {
        "colab": {
          "base_uri": "https://localhost:8080/"
        },
        "id": "yo6M325pLKlc",
        "outputId": "590b8609-8b90-4597-9e20-ab3c245b879b"
      },
      "outputs": [
        {
          "output_type": "stream",
          "name": "stdout",
          "text": [
            "{1, 2, 3, 4, 5, 9, 10, 16, 23, 26, 33, 38, 42, 57, 64, 75, 77, 78, 81, 87, 97}\n",
            "21\n"
          ]
        }
      ],
      "source": [
        "x = list(range(1,101))\n",
        "\n",
        "sample_list_1 = random.sample(x,80)\n",
        "\n",
        "set1 = set(sample_list_1)\n",
        "\n",
        "x = list(range(1, 101))\n",
        "\n",
        "sample_list_2 = random.choices(x, k=80)\n",
        "\n",
        "set1 = set(sample_list_2)\n",
        "\n",
        "\n",
        "\n",
        "x = list(range(1, 101))\n",
        "\n",
        "sample_list_2 = random.choices(x, k=80)\n",
        "\n",
        "set2 = set(sample_list_2)\n",
        "\n",
        "\n",
        "set3 = set1 - set2\n",
        "\n",
        "print(set3)\n",
        "\n",
        "print(len(set3))"
      ]
    },
    {
      "cell_type": "markdown",
      "metadata": {
        "id": "7Uy-U0fFLKlc"
      },
      "source": [
        "#### Identify the elements present in `set2` but not in `set1`. Assign the elements to a new set named `set4`."
      ]
    },
    {
      "cell_type": "code",
      "execution_count": 28,
      "metadata": {
        "colab": {
          "base_uri": "https://localhost:8080/"
        },
        "id": "eUYQLjygLKld",
        "outputId": "e35bba95-492f-4f24-bdda-fe49db22d29b"
      },
      "outputs": [
        {
          "output_type": "stream",
          "name": "stdout",
          "text": [
            "{5, 6, 8, 16, 18, 25, 26, 28, 29, 30, 33, 37, 39, 44, 46, 52, 54, 56, 64, 72, 73, 82, 83, 84, 88, 93, 97, 98}\n",
            "28\n"
          ]
        }
      ],
      "source": [
        "x = list(range(1,101))\n",
        "\n",
        "sample_list_1 = random.sample(x,80)\n",
        "\n",
        "set1 = set(sample_list_1)\n",
        "\n",
        "x = list(range(1, 101))\n",
        "\n",
        "sample_list_2 = random.choices(x, k=80)\n",
        "\n",
        "set1 = set(sample_list_2)\n",
        "\n",
        "\n",
        "\n",
        "x = list(range(1, 101))\n",
        "\n",
        "sample_list_2 = random.choices(x, k=80)\n",
        "\n",
        "set2 = set(sample_list_2)\n",
        "\n",
        "\n",
        "set4 = set2 -set1\n",
        "\n",
        "print(set4)\n",
        "print(len(set4))"
      ]
    },
    {
      "cell_type": "markdown",
      "metadata": {
        "id": "cONbS1NxLKld"
      },
      "source": [
        "#### Now Identify the elements shared between `set1` and `set2`. Assign the elements to a new set named `set5`."
      ]
    },
    {
      "cell_type": "code",
      "execution_count": 29,
      "metadata": {
        "colab": {
          "base_uri": "https://localhost:8080/"
        },
        "id": "yAn_QXeNLKld",
        "outputId": "5b9a696c-96a0-408b-e9ce-4be9a7e434cf"
      },
      "outputs": [
        {
          "output_type": "stream",
          "name": "stdout",
          "text": [
            "{2, 3, 13, 20, 21, 27, 41, 42, 48, 51, 58, 61, 63, 65, 68, 74, 76, 78, 80, 81, 87, 89, 90, 92, 94, 96, 99}\n",
            "27\n"
          ]
        }
      ],
      "source": [
        "set5 = set1 & set2\n",
        "\n",
        "print(set5)\n",
        "print(len(set5))"
      ]
    },
    {
      "cell_type": "markdown",
      "metadata": {
        "id": "vAYVSn4VLKle"
      },
      "source": [
        "#### What is the relationship among the following values:\n",
        "\n",
        "* len(set1)\n",
        "* len(set2)\n",
        "* len(set3)\n",
        "* len(set4)\n",
        "* len(set5)\n",
        "\n",
        "Use a math formula to represent that relationship. Test your formula with Python code. Eg.:\n",
        "\n",
        "- my age is 30\n",
        "- my son is 10\n",
        "- my dad's twice my age\n",
        "- my grandmother is three times my age minus my son's_age\n",
        "\n",
        "\n",
        "A formula relating all these values would be:\n",
        "\n",
        "`my_grandmother = my_age + my_dad's_age - my_sons_age`\n",
        "\n",
        "Does this evaluate to True or to False?"
      ]
    },
    {
      "cell_type": "code",
      "execution_count": 35,
      "metadata": {
        "colab": {
          "base_uri": "https://localhost:8080/"
        },
        "id": "BnLdIOCgLKle",
        "outputId": "c4fd99d9-82e4-4b52-8dde-1220ae7b5da5"
      },
      "outputs": [
        {
          "output_type": "stream",
          "name": "stdout",
          "text": [
            "False\n"
          ]
        }
      ],
      "source": [
        "len(set1) == 80\n",
        "len(set2) == 56\n",
        "len(set3) == 21\n",
        "len(set4) == 28\n",
        "len(set5) == 27\n",
        "\n",
        "set_calculation = len(set1) - len(set3) + len(set2) -len(set4)\n",
        "\n",
        "len(set5) == len(set1) - len(set3) + len(set2) -len(set4)\n",
        "\n",
        "if len(set5) == set_calculation:\n",
        "   print(\"True\")\n",
        "else:\n",
        "   print(\"False\")"
      ]
    },
    {
      "cell_type": "markdown",
      "metadata": {
        "id": "hQKcBdhOLKle"
      },
      "source": [
        "#### Create an empty set called `set6`."
      ]
    },
    {
      "cell_type": "code",
      "execution_count": 46,
      "metadata": {
        "colab": {
          "base_uri": "https://localhost:8080/"
        },
        "id": "8D9BZQndLKle",
        "outputId": "672ef9fb-806f-4012-87ec-dd1609f98736"
      },
      "outputs": [
        {
          "output_type": "stream",
          "name": "stdout",
          "text": [
            "()\n"
          ]
        }
      ],
      "source": [
        "set6 = ()\n",
        "\n",
        "print(set6)\n"
      ]
    },
    {
      "cell_type": "markdown",
      "metadata": {
        "id": "xEfjfmyPLKlf"
      },
      "source": [
        "#### Add `set3` and `set5` to `set6` using the Python Set `update` method."
      ]
    },
    {
      "cell_type": "code",
      "execution_count": 51,
      "metadata": {
        "colab": {
          "base_uri": "https://localhost:8080/"
        },
        "id": "FOmBEWOKLKlf",
        "outputId": "523edb57-2f45-4c3c-ba45-bdf6c43e77a6"
      },
      "outputs": [
        {
          "output_type": "stream",
          "name": "stdout",
          "text": [
            "{1, 2, 3, 4, 5, 9, 10, 13, 16, 20, 21, 23, 26, 27, 33, 38, 41, 42, 48, 51, 57, 58, 61, 63, 64, 65, 68, 74, 75, 76, 77, 78, 80, 81, 87, 89, 90, 92, 94, 96, 97, 99}\n"
          ]
        }
      ],
      "source": [
        "set3 = {1, 2, 3, 4, 5, 9, 10, 16, 23, 26, 33, 38, 42, 57, 64, 75, 77, 78, 81, 87, 97}\n",
        "set5 = {2, 3, 13, 20, 21, 27, 41, 42, 48, 51, 58, 61, 63, 65, 68, 74, 76, 78, 80, 81, 87, 89, 90, 92, 94, 96, 99}\n",
        "\n",
        "set6 = set()  # Define set6 as an empty set\n",
        "\n",
        "set6.update(set3)\n",
        "set6.update(set5)\n",
        "\n",
        "print(set6)"
      ]
    },
    {
      "cell_type": "markdown",
      "metadata": {
        "id": "GyTLCwBGLKlf"
      },
      "source": [
        "#### Check if `set1` and `set6` are equal."
      ]
    },
    {
      "cell_type": "code",
      "execution_count": 52,
      "metadata": {
        "colab": {
          "base_uri": "https://localhost:8080/"
        },
        "id": "YXSzYSCtLKlf",
        "outputId": "283da851-d9e0-461e-d1b0-d1791af5fa97"
      },
      "outputs": [
        {
          "output_type": "execute_result",
          "data": {
            "text/plain": [
              "False"
            ]
          },
          "metadata": {},
          "execution_count": 52
        }
      ],
      "source": [
        "set1 = [8, 79, 94, 59, 10, 12, 25, 76, 68, 33, 73, 39, 34, 36, 61, 58, 85, 100, 55, 89, 99, 42, 95, 82, 51, 97, 57, 38, 93, 96, 44, 5, 20, 24, 67, 31, 32, 90, 60, 21, 84, 19, 80, 11, 17, 45, 50, 70, 13, 66, 28, 30, 83, 77, 91, 87, 14, 56, 35, 16, 23, 48, 74, 88, 4, 22, 63, 53, 64, 62, 7, 71, 69, 41, 27, 78, 40, 9, 1, 15]\n",
        "set6 = {1, 2, 3, 4, 5, 9, 10, 13, 16, 20, 21, 23, 26, 27, 33, 38, 41, 42, 48, 51, 57, 58, 61, 63, 64, 65, 68, 74, 75, 76, 77, 78, 80, 81, 87, 89, 90, 92, 94, 96, 97, 99}\n",
        "\n",
        "set1 == set6"
      ]
    },
    {
      "cell_type": "markdown",
      "metadata": {
        "id": "3MBnt8X3LKlf"
      },
      "source": [
        "#### Check if `set1` contains `set2` using the Python Set `issubset` method. Then check if `set1` contains `set3`.*"
      ]
    },
    {
      "cell_type": "code",
      "source": [
        "set1 = {8, 79, 94, 59, 10, 12, 25, 76, 68, 33, 73, 39, 34, 36, 61, 58, 85, 100, 55, 89, 99, 42, 95, 82, 51, 97, 57, 38, 93, 96, 44, 5, 20, 24, 67, 31, 32, 90, 60, 21, 84, 19, 80, 11, 17, 45, 50, 70, 13, 66, 28, 30, 83, 77, 91, 87, 14, 56, 35, 16, 23, 48, 74, 88, 4, 22, 63, 53, 64, 62, 7, 71, 69, 41, 27, 78, 40, 9, 1, 15}\n",
        "set2 = {63, 51, 10, 77, 75, 84, 36, 89, 95, 59, 72, 44, 76, 93, 3, 34, 32, 88, 44, 4, 84, 64, 60, 93, 66, 62, 74, 73, 27, 78, 80, 63, 77, 33, 25, 27, 38, 39, 32, 48, 24, 38, 25, 30, 88, 66, 2, 82, 99, 49, 56, 34, 2, 74, 79, 73, 18, 76, 55, 60, 72, 70, 19, 73, 14, 74, 33, 69, 97, 36, 70, 26, 22, 20, 21, 84, 25, 81, 30, 61}\n",
        "set3 = {1, 2, 3, 4, 5, 9, 10, 16, 23, 26, 33, 38, 42, 57, 64, 75, 77, 78, 81, 87, 97}\n",
        "\n",
        "is_subset_2_in_1 = set2.issubset(set1)\n",
        "\n",
        "is_subset_3_in_1 = set3.issubset(set1)\n",
        "\n",
        "if is_subset_2_in_1:\n",
        "    print(\"set2 is a subset of set1.\")\n",
        "else:\n",
        "    print(\"set2 is not a subset of set1.\")\n",
        "\n",
        "if is_subset_3_in_1:\n",
        "    print(\"set3 is a subset of set1.\")\n",
        "else:\n",
        "    print(\"set3 is not a subset of set1.\")\n"
      ],
      "metadata": {
        "colab": {
          "base_uri": "https://localhost:8080/"
        },
        "id": "IRI0_-zmGd6y",
        "outputId": "2a665fd9-96ca-4729-d181-2ff71f1dae79"
      },
      "execution_count": 59,
      "outputs": [
        {
          "output_type": "stream",
          "name": "stdout",
          "text": [
            "set2 is not a subset of set1.\n",
            "set3 is not a subset of set1.\n"
          ]
        }
      ]
    },
    {
      "cell_type": "markdown",
      "metadata": {
        "id": "tuzSeb8yLKlg"
      },
      "source": [
        "#### Using the Python Set `union` method, aggregate `set3`, `set4`, and `set5`. Then aggregate `set1` and `set2`.\n",
        "\n",
        "#### Check if the aggregated values are equal."
      ]
    },
    {
      "cell_type": "code",
      "execution_count": 61,
      "metadata": {
        "colab": {
          "base_uri": "https://localhost:8080/"
        },
        "id": "xgDj1Z8TLKlg",
        "outputId": "a6340fb6-7fb3-4b64-ff0d-3e1d8fd341bf"
      },
      "outputs": [
        {
          "output_type": "stream",
          "name": "stdout",
          "text": [
            "Aggregated Set 1: {1, 2, 3, 4, 5, 6, 8, 9, 10, 13, 16, 18, 20, 21, 23, 25, 26, 27, 28, 29, 30, 33, 37, 38, 39, 41, 42, 44, 46, 48, 51, 52, 54, 56, 57, 58, 61, 63, 64, 65, 68, 72, 73, 74, 75, 76, 77, 78, 80, 81, 82, 83, 84, 87, 88, 89, 90, 92, 93, 94, 96, 97, 98, 99}\n",
            "Aggregated Set 2: {1, 2, 3, 4, 5, 7, 8, 9, 10, 11, 12, 13, 14, 15, 16, 17, 18, 19, 20, 21, 22, 23, 24, 25, 26, 27, 28, 30, 31, 32, 33, 34, 35, 36, 38, 39, 40, 41, 42, 44, 45, 48, 49, 50, 51, 53, 55, 56, 57, 58, 59, 60, 61, 62, 63, 64, 66, 67, 68, 69, 70, 71, 72, 73, 74, 75, 76, 77, 78, 79, 80, 81, 82, 83, 84, 85, 87, 88, 89, 90, 91, 93, 94, 95, 96, 97, 99, 100}\n",
            "No the values are not equal\n"
          ]
        }
      ],
      "source": [
        "set4 = {5, 6, 8, 16, 18, 25, 26, 28, 29, 30, 33, 37, 39, 44, 46, 52, 54, 56, 64, 72, 73, 82, 83, 84, 88, 93, 97, 98}\n",
        "\n",
        "aggregated_set1 = set3.union(set4, set5)\n",
        "\n",
        "aggregated_set2 = set1.union(set2)\n",
        "\n",
        "print(\"Aggregated Set 1:\", aggregated_set1)\n",
        "print(\"Aggregated Set 2:\", aggregated_set2)\n",
        "\n",
        "if aggregated_set1 == aggregated_set2:\n",
        "  print(\"Yes the values are equal\")\n",
        "else:\n",
        "  print(\"No the values are not equal\")\n"
      ]
    },
    {
      "cell_type": "markdown",
      "metadata": {
        "id": "Fh37pSZhLKlg"
      },
      "source": [
        "#### Using the `pop` method, remove the first element from `set1`."
      ]
    },
    {
      "cell_type": "code",
      "execution_count": 67,
      "metadata": {
        "colab": {
          "base_uri": "https://localhost:8080/"
        },
        "id": "xr3tAZVBLKlg",
        "outputId": "4c93fee0-4b20-43c4-c08e-261861a55f40"
      },
      "outputs": [
        {
          "output_type": "stream",
          "name": "stdout",
          "text": [
            "1\n",
            "{4, 5, 7, 8, 9, 10, 11, 12, 13, 14, 15, 16, 17, 19, 20, 21, 22, 23, 24, 25, 27, 28, 30, 31, 32, 33, 34, 35, 36, 38, 39, 40, 41, 42, 44, 45, 48, 50, 51, 53, 55, 56, 57, 58, 59, 60, 61, 62, 63, 64, 66, 67, 68, 69, 70, 71, 73, 74, 76, 77, 78, 79, 80, 82, 83, 84, 85, 87, 88, 89, 90, 91, 93, 94, 95, 96, 97, 99, 100}\n"
          ]
        }
      ],
      "source": [
        "set1 = {8, 79, 94, 59, 10, 12, 25, 76, 68, 33, 73, 39, 34, 36, 61, 58, 85, 100, 55, 89, 99, 42, 95, 82, 51, 97, 57, 38, 93, 96, 44, 5, 20, 24, 67, 31, 32, 90, 60, 21, 84, 19, 80, 11, 17, 45, 50, 70, 13, 66, 28, 30, 83, 77, 91, 87, 14, 56, 35, 16, 23, 48, 74, 88, 4, 22, 63, 53, 64, 62, 7, 71, 69, 41, 27, 78, 40, 9, 1, 15}\n",
        "\n",
        "removed_element = set1.pop()\n",
        "\n",
        "print(removed_element)\n",
        "print(set1)\n"
      ]
    },
    {
      "cell_type": "markdown",
      "metadata": {
        "id": "i41r-v7ALKlg"
      },
      "source": [
        "#### Remove every element in the following list from `set1` if they are present in the set. Print the remaining elements.\n",
        "\n",
        "```\n",
        "list_to_remove = [1, 9, 11, 19, 21, 29, 31, 39, 41, 49, 51, 59, 61, 69, 71, 79, 81, 89, 91, 99]\n",
        "```"
      ]
    },
    {
      "cell_type": "code",
      "execution_count": 70,
      "metadata": {
        "colab": {
          "base_uri": "https://localhost:8080/"
        },
        "id": "_AngkMjILKlh",
        "outputId": "792007a8-94cc-4188-b41e-ce62ee95f174"
      },
      "outputs": [
        {
          "output_type": "stream",
          "name": "stdout",
          "text": [
            "Remaining elements in set1: {4, 5, 7, 8, 10, 12, 13, 14, 15, 16, 17, 20, 22, 23, 24, 25, 27, 28, 30, 32, 33, 34, 35, 36, 38, 40, 42, 44, 45, 48, 50, 53, 55, 56, 57, 58, 60, 62, 63, 64, 66, 67, 68, 70, 73, 74, 76, 77, 78, 80, 82, 83, 84, 85, 87, 88, 90, 93, 94, 95, 96, 97, 100}\n"
          ]
        }
      ],
      "source": [
        "set1 = {8, 79, 94, 59, 10, 12, 25, 76, 68, 33, 73, 39, 34, 36, 61, 58, 85, 100, 55, 89, 99, 42, 95, 82, 51, 97, 57, 38, 93, 96, 44, 5, 20, 24, 67, 31, 32, 90, 60, 21, 84, 19, 80, 11, 17, 45, 50, 70, 13, 66, 28, 30, 83, 77, 91, 87, 14, 56, 35, 16, 23, 48, 74, 88, 4, 22, 63, 53, 64, 62, 7, 71, 69, 41, 27, 78, 40, 9, 1, 15}\n",
        "\n",
        "list_to_remove = [1, 9, 11, 19, 21, 29, 31, 39, 41, 49, 51, 59, 61, 69, 71, 79, 81, 89, 91, 99]\n",
        "\n",
        "set_to_remove = set(list_to_remove)\n",
        "\n",
        "remaining_elements = set()\n",
        "\n",
        "for element in set1:\n",
        "    if element not in set_to_remove:\n",
        "        remaining_elements.add(element)\n",
        "\n",
        "print(\"Remaining elements in set1:\", remaining_elements)"
      ]
    }
  ],
  "metadata": {
    "kernelspec": {
      "display_name": "Python 3 (ipykernel)",
      "language": "python",
      "name": "python3"
    },
    "language_info": {
      "codemirror_mode": {
        "name": "ipython",
        "version": 3
      },
      "file_extension": ".py",
      "mimetype": "text/x-python",
      "name": "python",
      "nbconvert_exporter": "python",
      "pygments_lexer": "ipython3",
      "version": "3.8.13"
    },
    "nbTranslate": {
      "displayLangs": [
        "en",
        "es"
      ],
      "hotkey": "alt-a",
      "langInMainMenu": true,
      "sourceLang": "es",
      "targetLang": "en",
      "useGoogleTranslate": true
    },
    "toc": {
      "base_numbering": 1,
      "nav_menu": {},
      "number_sections": true,
      "sideBar": true,
      "skip_h1_title": false,
      "title_cell": "Table of Contents",
      "title_sidebar": "Contents",
      "toc_cell": false,
      "toc_position": {},
      "toc_section_display": true,
      "toc_window_display": false
    },
    "colab": {
      "provenance": []
    }
  },
  "nbformat": 4,
  "nbformat_minor": 0
}