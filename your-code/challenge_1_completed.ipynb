{
  "cells": [
    {
      "cell_type": "markdown",
      "metadata": {
        "id": "A346I4F04qqh"
      },
      "source": [
        "## Challenge 1: Tuples\n",
        "\n",
        "#### Do you know you can create tuples with only one element?\n",
        "\n",
        "**In the cell below, define a variable `tup` with a single element `\"I\"`.**<br>\n",
        "[Hint](https://note.nkmk.me/en/python-tuple-single-empty/)"
      ]
    },
    {
      "cell_type": "code",
      "execution_count": 2,
      "metadata": {
        "colab": {
          "base_uri": "https://localhost:8080/"
        },
        "id": "_YU7Qeks4qqj",
        "outputId": "6ef034b8-21f6-4924-bf17-d439ac935590"
      },
      "outputs": [
        {
          "output_type": "execute_result",
          "data": {
            "text/plain": [
              "('I',)"
            ]
          },
          "metadata": {},
          "execution_count": 2
        }
      ],
      "source": [
        "tup = (\"I\",)\n",
        "tup\n"
      ]
    },
    {
      "cell_type": "markdown",
      "metadata": {
        "id": "hY8F4efO4qqk"
      },
      "source": [
        "#### Print the type of `tup`.\n",
        "\n",
        "Make sure its type is correct (i.e. *tuple* instead of *str*)."
      ]
    },
    {
      "cell_type": "code",
      "execution_count": 3,
      "metadata": {
        "colab": {
          "base_uri": "https://localhost:8080/"
        },
        "id": "3Vmg3iMT4qqk",
        "outputId": "3377f427-ba09-4259-99a6-e62a7ecad568"
      },
      "outputs": [
        {
          "output_type": "stream",
          "name": "stdout",
          "text": [
            "<class 'tuple'>\n"
          ]
        }
      ],
      "source": [
        "tup = (\"I\",)\n",
        "print (type(tup))\n"
      ]
    },
    {
      "cell_type": "markdown",
      "metadata": {
        "id": "0IUAbF-H4qqk"
      },
      "source": [
        "#### Now try to append the following elements to `tup`.\n",
        "\n",
        "Are you able to do it? Explain.\n",
        "\n",
        "```\n",
        "\"r\", \"o\", \"n\", \"h\", \"a\", \"c\", \"k',\n",
        "```"
      ]
    },
    {
      "cell_type": "code",
      "execution_count": 8,
      "metadata": {
        "colab": {
          "base_uri": "https://localhost:8080/",
          "height": 245
        },
        "id": "dmKvMjyt4qql",
        "outputId": "9c6e3599-8cff-457b-fe11-b8a275fa37d5"
      },
      "outputs": [
        {
          "output_type": "error",
          "ename": "AttributeError",
          "evalue": "ignored",
          "traceback": [
            "\u001b[0;31m---------------------------------------------------------------------------\u001b[0m",
            "\u001b[0;31mAttributeError\u001b[0m                            Traceback (most recent call last)",
            "\u001b[0;32m<ipython-input-8-3125347c144b>\u001b[0m in \u001b[0;36m<cell line: 2>\u001b[0;34m()\u001b[0m\n\u001b[1;32m      1\u001b[0m \u001b[0mtup\u001b[0m \u001b[0;34m=\u001b[0m \u001b[0;34m(\u001b[0m\u001b[0;34m\"I\"\u001b[0m\u001b[0;34m,\u001b[0m\u001b[0;34m)\u001b[0m\u001b[0;34m\u001b[0m\u001b[0;34m\u001b[0m\u001b[0m\n\u001b[0;32m----> 2\u001b[0;31m \u001b[0mtup\u001b[0m\u001b[0;34m.\u001b[0m\u001b[0mappend\u001b[0m \u001b[0;34m(\u001b[0m\u001b[0;34m\"r\"\u001b[0m\u001b[0;34m,\u001b[0m\u001b[0;34m)\u001b[0m\u001b[0;34m\u001b[0m\u001b[0;34m\u001b[0m\u001b[0m\n\u001b[0m\u001b[1;32m      3\u001b[0m \u001b[0mtup\u001b[0m\u001b[0;34m\u001b[0m\u001b[0;34m\u001b[0m\u001b[0m\n\u001b[1;32m      4\u001b[0m \u001b[0;34m\u001b[0m\u001b[0m\n\u001b[1;32m      5\u001b[0m \u001b[0;31m# Your explanation here\u001b[0m\u001b[0;34m\u001b[0m\u001b[0;34m\u001b[0m\u001b[0m\n",
            "\u001b[0;31mAttributeError\u001b[0m: 'tuple' object has no attribute 'append'"
          ]
        }
      ],
      "source": [
        "tup = (\"I\",)\n",
        "tup.append (\"r\",)\n",
        "tup\n",
        "\n",
        "# you cannot append this way because tuple has no atribute\n"
      ]
    },
    {
      "cell_type": "markdown",
      "metadata": {
        "id": "AFp9qwxo4qql"
      },
      "source": [
        "#### How about re-assign a new value to an existing tuple?\n",
        "\n",
        "Re-assign the following elements to `tup`. Are you able to do it? Explain.\n",
        "\n",
        "```\n",
        "\"I\", \"r\", \"o\", \"n\", \"h\", \"a\", \"c\", \"k\"\n",
        "```\n",
        "\n",
        "Can you think of any other workarounds? Think of casting? slicing?, re-assigning?"
      ]
    },
    {
      "cell_type": "code",
      "execution_count": 9,
      "metadata": {
        "colab": {
          "base_uri": "https://localhost:8080/"
        },
        "id": "mLt4Z2pn4qql",
        "outputId": "bc182ef7-b5cb-4d2a-99d9-8ce45c8c7c2c"
      },
      "outputs": [
        {
          "output_type": "execute_result",
          "data": {
            "text/plain": [
              "('I', 'r', 'o', 'n', 'h', 'a', 'c', 'k')"
            ]
          },
          "metadata": {},
          "execution_count": 9
        }
      ],
      "source": [
        "tup = (\"I\",)\n",
        "tup = tup + (\"r\", \"o\", \"n\", \"h\", \"a\", \"c\", \"k\" )\n",
        "tup\n",
        "\n",
        "\n",
        "#  you can work it out an other way by adding with + sign tup and the rest of the list.\n"
      ]
    },
    {
      "cell_type": "markdown",
      "metadata": {
        "id": "hG7gFiEK4qqm"
      },
      "source": [
        "#### Split `tup` into `tup1` and `tup2` with 4 elements in each.\n",
        "\n",
        "`tup1` should be `(\"I\", \"r\", \"o\", \"n\")` and `tup2` should be `(\"h\", \"a\", \"c\", \"k\")`.\n",
        "\n",
        "*Hint: use positive index numbers for `tup1` assignment and use negative index numbers for `tup2` assignment. Positive index numbers count from the beginning whereas negative index numbers count from the end of the sequence.*\n",
        "\n",
        "Also print `tup1` and `tup2`."
      ]
    },
    {
      "cell_type": "code",
      "execution_count": 26,
      "metadata": {
        "colab": {
          "base_uri": "https://localhost:8080/"
        },
        "id": "W3rNuiAP4qqm",
        "outputId": "8e4dfe3a-6bd6-4dd8-86d1-930970e9abf8"
      },
      "outputs": [
        {
          "output_type": "stream",
          "name": "stdout",
          "text": [
            "('I', 'r', 'o', 'n')\n",
            "('h', 'a', 'c', 'k')\n"
          ]
        }
      ],
      "source": [
        "tup = ('I', 'r', 'o', 'n', 'h', 'a', 'c', 'k')\n",
        "tup1 = tup[:4]\n",
        "tup2 = tup[-4:]\n",
        "\n",
        "print(tup1)\n",
        "print(tup2)"
      ]
    },
    {
      "cell_type": "markdown",
      "metadata": {
        "id": "WmgAvVZ-4qqm"
      },
      "source": [
        "#### Add `tup1` and `tup2` into `tup3` using the `+` operator.\n",
        "\n",
        "Then print `tup3` and check if `tup3` equals to `tup`."
      ]
    },
    {
      "cell_type": "code",
      "execution_count": 31,
      "metadata": {
        "colab": {
          "base_uri": "https://localhost:8080/"
        },
        "id": "X_ArDwPm4qqn",
        "outputId": "9640a27f-d8f9-4c86-bb4c-bd8a6de494ca"
      },
      "outputs": [
        {
          "output_type": "stream",
          "name": "stdout",
          "text": [
            "tup is equal to tup3\n"
          ]
        }
      ],
      "source": [
        "tup = ('I', 'r', 'o', 'n', 'h', 'a', 'c', 'k')\n",
        "tup1 = tup[:4]\n",
        "tup2 = tup[-4:]\n",
        "\n",
        "tup3 = tup1 + tup2\n",
        "\n",
        "if tup == tup3:\n",
        "     print (\"tup is equal to tup3\")\n",
        "else:\n",
        "     print (\"tup is not equal to tup3\")\n"
      ]
    },
    {
      "cell_type": "markdown",
      "metadata": {
        "id": "28Geqi734qqn"
      },
      "source": [
        "#### Count the number of elements in `tup1` and `tup2`. Then add the two counts together and check if the sum is the same as the number of elements in `tup3`."
      ]
    },
    {
      "cell_type": "code",
      "execution_count": 34,
      "metadata": {
        "colab": {
          "base_uri": "https://localhost:8080/"
        },
        "id": "OK4qqeLE4qqn",
        "outputId": "8923ba60-0f19-4bfc-c4e4-63d3e7196289"
      },
      "outputs": [
        {
          "output_type": "stream",
          "name": "stdout",
          "text": [
            "Number of elements in up1 is 4\n",
            "Number of elements in up2 is 4\n",
            "Number of elements in up3 is 8\n",
            "The sum is the same as the number of elements? True\n"
          ]
        }
      ],
      "source": [
        "tup = ('I', 'r', 'o', 'n', 'h', 'a', 'c', 'k')\n",
        "tup1 = tup[:4]\n",
        "tup2 = tup[-4:]\n",
        "\n",
        "tup3 = tup1 + tup2\n",
        "\n",
        "count_tup1 = len(tup1)\n",
        "count_tup2 = len(tup2)\n",
        "\n",
        "result = count_tup1 + count_tup2 == len(tup3)\n",
        "\n",
        "print(\"Number of elements in up1 is\", count_tup1)\n",
        "print(\"Number of elements in up2 is\", count_tup2)\n",
        "print(\"Number of elements in up3 is\", len(tup3))\n",
        "print(\"The sum is the same as the number of elements?\",result)\n"
      ]
    },
    {
      "cell_type": "markdown",
      "metadata": {
        "id": "_7kzPvsW4qqn"
      },
      "source": [
        "#### What is the index number of `\"h\"` in `tup3`?"
      ]
    },
    {
      "cell_type": "code",
      "execution_count": 37,
      "metadata": {
        "colab": {
          "base_uri": "https://localhost:8080/"
        },
        "id": "vCYVed-p4qqn",
        "outputId": "a1191873-ed08-4a23-e13a-a52c4a6f3a87"
      },
      "outputs": [
        {
          "output_type": "stream",
          "name": "stdout",
          "text": [
            "Th index number of 'h' is 4\n"
          ]
        }
      ],
      "source": [
        "tup = ('I', 'r', 'o', 'n', 'h', 'a', 'c', 'k')\n",
        "tup1 = tup[:4]\n",
        "tup2 = tup[-4:]\n",
        "\n",
        "tup3 = tup1 + tup2\n",
        "\n",
        "index_h = tup3.index('h')\n",
        "\n",
        "print(\"Th index number of 'h' is\", index_h)"
      ]
    },
    {
      "cell_type": "markdown",
      "metadata": {
        "id": "kCmKz6M64qqn"
      },
      "source": [
        "#### Now, use a FOR loop to check whether each letter in the following list is present in `tup3`:\n",
        "\n",
        "```\n",
        "letters = [\"a\", \"b\", \"c\", \"d\", \"e\"]\n",
        "```\n",
        "\n",
        "For each letter you check, print `True` if it is present in `tup3` otherwise print `False`.\n",
        "\n",
        "*Hint: you only need to loop `letters`. You don't need to loop `tup3` because there is a Python operator `in` you can use. See [reference](https://stackoverflow.com/questions/17920147/how-to-check-if-a-tuple-contains-an-element-in-python).*"
      ]
    },
    {
      "cell_type": "code",
      "execution_count": 39,
      "metadata": {
        "colab": {
          "base_uri": "https://localhost:8080/"
        },
        "id": "W-aiJBeR4qqo",
        "outputId": "9ac36507-b00c-49b7-ade1-5606a7715c96"
      },
      "outputs": [
        {
          "output_type": "stream",
          "name": "stdout",
          "text": [
            "True\n",
            "false\n",
            "True\n",
            "false\n",
            "false\n"
          ]
        }
      ],
      "source": [
        "tup = ('I', 'r', 'o', 'n', 'h', 'a', 'c', 'k')\n",
        "tup1 = tup[:4]\n",
        "tup2 = tup[-4:]\n",
        "\n",
        "tup3 = tup1 + tup2\n",
        "\n",
        "letters = [\"a\", \"b\", \"c\", \"d\", \"e\"]\n",
        "\n",
        "for letter in letters:\n",
        "    if letter in tup3:\n",
        "       print(\"True\")\n",
        "    else:\n",
        "       print(\"false\")\n"
      ]
    },
    {
      "cell_type": "markdown",
      "metadata": {
        "id": "_yiwQh3R4qqo"
      },
      "source": [
        "#### How many times does each letter in `letters` appear in `tup3`?\n",
        "\n",
        "Print out the number of occurrence of each letter."
      ]
    },
    {
      "cell_type": "markdown",
      "metadata": {
        "id": "wENV68Eh4qqo"
      },
      "source": [
        "Hint: three different approaches: loops, methods for counting and maybe use of dictionaries?"
      ]
    },
    {
      "cell_type": "code",
      "execution_count": 45,
      "metadata": {
        "colab": {
          "base_uri": "https://localhost:8080/"
        },
        "id": "WqPQgwsH4qqo",
        "outputId": "b2e58b67-fa42-4919-f179-d1b7fd3f67b7"
      },
      "outputs": [
        {
          "output_type": "stream",
          "name": "stdout",
          "text": [
            "The letter a appears 0 times in tup3\n",
            "The letter b appears 0 times in tup3\n",
            "The letter c appears 0 times in tup3\n",
            "The letter d appears 0 times in tup3\n",
            "The letter e appears 0 times in tup3\n"
          ]
        }
      ],
      "source": [
        "from os import XATTR_CREATE\n",
        "tup = ('I', 'r', 'o', 'n', 'h', 'a', 'c', 'k')\n",
        "tup1 = tup[:4]\n",
        "tup2 = tup[-4:]\n",
        "\n",
        "tup3 = tup1 + tup2\n",
        "\n",
        "letters = [\"a\", \"b\", \"c\", \"d\", \"e\"]\n",
        "letter_counts = {}\n",
        "\n",
        "for letter in letters:\n",
        "  x = tup3.count(letter)\n",
        "  letter_counts[letter] = x\n",
        "\n",
        "for letter, count in letter_counts.items():\n",
        "  print(f\"The letter {letter} appears {x} times in tup3\")\n"
      ]
    }
  ],
  "metadata": {
    "kernelspec": {
      "display_name": "Python 3 (ipykernel)",
      "language": "python",
      "name": "python3"
    },
    "language_info": {
      "codemirror_mode": {
        "name": "ipython",
        "version": 3
      },
      "file_extension": ".py",
      "mimetype": "text/x-python",
      "name": "python",
      "nbconvert_exporter": "python",
      "pygments_lexer": "ipython3",
      "version": "3.8.13"
    },
    "toc": {
      "base_numbering": 1,
      "nav_menu": {},
      "number_sections": true,
      "sideBar": true,
      "skip_h1_title": false,
      "title_cell": "Table of Contents",
      "title_sidebar": "Contents",
      "toc_cell": false,
      "toc_position": {},
      "toc_section_display": true,
      "toc_window_display": true
    },
    "colab": {
      "provenance": []
    }
  },
  "nbformat": 4,
  "nbformat_minor": 0
}